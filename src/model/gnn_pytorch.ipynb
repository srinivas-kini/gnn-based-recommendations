{
 "cells": [
  {
   "cell_type": "code",
   "execution_count": 225,
   "metadata": {
    "id": "FS9pJkVHcuZ9"
   },
   "outputs": [],
   "source": [
    "# Install required packages.\n",
    "# %%capture"
   ]
  },
  {
   "cell_type": "code",
   "execution_count": 226,
   "metadata": {
    "id": "FuAVOmklc5RT"
   },
   "outputs": [],
   "source": [
    "# !pip install -q git+https://github.com/snap-stanford/deepsnap.git"
   ]
  },
  {
   "cell_type": "code",
   "execution_count": 227,
   "metadata": {
    "id": "8YevhBnPc6KR"
   },
   "outputs": [],
   "source": [
    "# !pip install -U -q PyDrive"
   ]
  },
  {
   "cell_type": "code",
   "execution_count": 228,
   "metadata": {
    "id": "WXhNLvQnlaOr"
   },
   "outputs": [],
   "source": [
    "# !pip install boto3"
   ]
  },
  {
   "cell_type": "code",
   "execution_count": 229,
   "metadata": {},
   "outputs": [],
   "source": [
    "# !pip install seaborn"
   ]
  },
  {
   "cell_type": "code",
   "execution_count": 230,
   "metadata": {
    "scrolled": true
   },
   "outputs": [],
   "source": [
    "# !pip install bertopic"
   ]
  },
  {
   "cell_type": "code",
   "execution_count": 231,
   "metadata": {},
   "outputs": [],
   "source": [
    "# !pip install torch==2.0.0"
   ]
  },
  {
   "cell_type": "code",
   "execution_count": 232,
   "metadata": {},
   "outputs": [
    {
     "data": {
      "text/plain": [
       "'2.0.0+cu117'"
      ]
     },
     "execution_count": 232,
     "metadata": {},
     "output_type": "execute_result"
    }
   ],
   "source": [
    "import torch\n",
    "torch.__version__"
   ]
  },
  {
   "cell_type": "code",
   "execution_count": 233,
   "metadata": {},
   "outputs": [],
   "source": [
    "# !pip uninstall torch-scatter torch-sparse torch-geometric torch-cluster  --y\n",
    "# !pip install torch-scatter -f https://data.pyg.org/whl/torch-{torch.__version__}.html\n",
    "# !pip install torch-sparse -f https://data.pyg.org/whl/torch-{torch.__version__}.html\n",
    "# !pip install torch-cluster -f https://data.pyg.org/whl/torch-{torch.__version__}.html\n",
    "# !pip install git+https://github.com/pyg-team/pytorch_geometric.git"
   ]
  },
  {
   "cell_type": "code",
   "execution_count": 234,
   "metadata": {},
   "outputs": [],
   "source": [
    "# !pip install tqdm"
   ]
  },
  {
   "cell_type": "code",
   "execution_count": 235,
   "metadata": {
    "id": "Kw2OZUj5aTQC"
   },
   "outputs": [],
   "source": [
    "import random\n",
    "from tqdm import tqdm\n",
    "import pandas as pd\n",
    "import numpy as np\n",
    "import matplotlib.pyplot as plt\n",
    "from sklearn.model_selection import train_test_split\n",
    "import seaborn as sns\n",
    "from torch import nn, optim, Tensor\n",
    "\n",
    "from torch_sparse import SparseTensor, matmul\n",
    "\n",
    "from torch_geometric.utils import structured_negative_sampling\n",
    "from torch_geometric.data import download_url, extract_zip\n",
    "from torch_geometric.nn.conv.gcn_conv import gcn_norm\n",
    "from torch_geometric.nn.conv import MessagePassing\n",
    "from torch_geometric.typing import Adj\n",
    "import boto3\n",
    "import json\n",
    "import os\n",
    "from io import StringIO "
   ]
  },
  {
   "cell_type": "code",
   "execution_count": 236,
   "metadata": {},
   "outputs": [],
   "source": [
    "BUCKET_NAME = 'ecc-scraper-data'\n",
    "# # s3 = boto3.client('s3')\n",
    "\n",
    "s3 = boto3.client('s3', \n",
    "                          aws_access_key_id='XXX',\n",
    "                          aws_secret_access_key='XXX',\n",
    "                          region_name='us-east-2'\n",
    "                      )"
   ]
  },
  {
   "cell_type": "code",
   "execution_count": 237,
   "metadata": {},
   "outputs": [],
   "source": [
    "objects = s3.list_objects_v2(Bucket=BUCKET_NAME)['Contents']\n",
    "objects = list( objects)\n",
    "\n",
    "final_data = []\n",
    "post_reactions = {}\n",
    "\n",
    "for obj in objects:\n",
    "    if(obj['Key']=='preprocessed_data.csv'):\n",
    "        contents = s3.get_object(Bucket=BUCKET_NAME, Key=obj['Key'])\n",
    "        contents = contents['Body'].read().decode('utf-8')\n",
    "        df = pd.read_csv(StringIO(contents), index_col=0)\n",
    "        \n",
    "        break"
   ]
  },
  {
   "cell_type": "code",
   "execution_count": 238,
   "metadata": {},
   "outputs": [],
   "source": [
    "df.rename( columns={0 :'id'}, inplace=True )"
   ]
  },
  {
   "cell_type": "code",
   "execution_count": 239,
   "metadata": {},
   "outputs": [
    {
     "data": {
      "text/plain": [
       "Index(['post_id', 'timestamp', 'source', 'current_user', 'authorUrl',\n",
       "       'authorImage', 'author', 'text', 'n_reposts', 'n_reactions',\n",
       "       'n_comments', 'reaction', 'post_without_stopwords', 'post_lemmatized',\n",
       "       'topic_id', 'top_words', 'topic_name'],\n",
       "      dtype='object')"
      ]
     },
     "execution_count": 239,
     "metadata": {},
     "output_type": "execute_result"
    }
   ],
   "source": [
    "df.columns"
   ]
  },
  {
   "cell_type": "code",
   "execution_count": 240,
   "metadata": {
    "id": "qMSCDJWavz54"
   },
   "outputs": [],
   "source": [
    "def load_node_csv(old_df, index_col):\n",
    "    \"\"\"Loads csv containing node information\n",
    "\n",
    "    Args:\n",
    "        path (str): path to csv file\n",
    "        index_col (str): column name of index column\n",
    "\n",
    "    Returns:\n",
    "        dict: mapping of csv row to node id\n",
    "    \"\"\"\n",
    "    df = old_df.set_index(index_col)\n",
    "    mapping = {index: i for i, index in enumerate(df.index.unique())}\n",
    "    return mapping"
   ]
  },
  {
   "cell_type": "code",
   "execution_count": 241,
   "metadata": {
    "id": "ibwFJKnKwtCy"
   },
   "outputs": [],
   "source": [
    "user_mapping = load_node_csv(df, index_col='current_user')\n",
    "post_mapping = load_node_csv(df, index_col='post_id')\n",
    "author_mapping = load_node_csv(df, index_col='authorUrl')"
   ]
  },
  {
   "cell_type": "code",
   "execution_count": 242,
   "metadata": {
    "colab": {
     "base_uri": "https://localhost:8080/"
    },
    "id": "QCCKyLlHS3kA",
    "outputId": "ab719dc5-ee08-4615-9924-b0eec35548cf"
   },
   "outputs": [
    {
     "data": {
      "text/plain": [
       "7"
      ]
     },
     "execution_count": 242,
     "metadata": {},
     "output_type": "execute_result"
    }
   ],
   "source": [
    "len(user_mapping.keys())"
   ]
  },
  {
   "cell_type": "code",
   "execution_count": 243,
   "metadata": {},
   "outputs": [
    {
     "data": {
      "text/plain": [
       "{'karthikshathiri': 0,\n",
       " 'kssreesha': 1,\n",
       " 'newsstorygoogle-search-to-add-ai-chat-feature-5598532': 2,\n",
       " 'mitali-tavildar-profile': 3,\n",
       " 'newsstoryjob-openings-sink-below-10m-5594252': 4,\n",
       " 'mitali-tavildar': 5,\n",
       " 'skini25': 6}"
      ]
     },
     "execution_count": 243,
     "metadata": {},
     "output_type": "execute_result"
    }
   ],
   "source": [
    "user_mapping"
   ]
  },
  {
   "cell_type": "code",
   "execution_count": 244,
   "metadata": {
    "colab": {
     "base_uri": "https://localhost:8080/"
    },
    "id": "F--Ke4jCS-SF",
    "outputId": "db798b18-7cf7-402f-979e-cb4a540f9f7a"
   },
   "outputs": [
    {
     "data": {
      "text/plain": [
       "1254"
      ]
     },
     "execution_count": 244,
     "metadata": {},
     "output_type": "execute_result"
    }
   ],
   "source": [
    "len(post_mapping.keys())"
   ]
  },
  {
   "cell_type": "code",
   "execution_count": 245,
   "metadata": {
    "colab": {
     "base_uri": "https://localhost:8080/"
    },
    "id": "Cp-UFvFPS_mj",
    "outputId": "f81e6eb6-66bd-49f0-d017-6f7776c46361"
   },
   "outputs": [
    {
     "data": {
      "text/plain": [
       "872"
      ]
     },
     "execution_count": 245,
     "metadata": {},
     "output_type": "execute_result"
    }
   ],
   "source": [
    "len(author_mapping.keys())"
   ]
  },
  {
   "cell_type": "code",
   "execution_count": 246,
   "metadata": {
    "colab": {
     "base_uri": "https://localhost:8080/"
    },
    "id": "VNzOFpICxCx5",
    "outputId": "cfa3c0a4-10f9-4c60-b5e7-1c34c821e546"
   },
   "outputs": [
    {
     "name": "stdout",
     "output_type": "stream",
     "text": [
      "torch.Size([2, 107])\n"
     ]
    }
   ],
   "source": [
    "# load edges between users and posts\n",
    "def load_edge_csv(df, src_index_col, src_mapping, dst_index_col, dst_mapping, edge_value):\n",
    "    \"\"\"Loads csv containing edges between users and items\n",
    "\n",
    "    Args:\n",
    "        path (str): path to csv file\n",
    "        src_index_col (str): column name of users\n",
    "        src_mapping (dict): mapping between row number and user id\n",
    "        dst_index_col (str): column name of items\n",
    "        dst_mapping (dict): mapping between row number and item id\n",
    "\n",
    "    Returns:\n",
    "        torch.Tensor: 2 by N matrix containing the node ids of N user-item edges\n",
    "    \"\"\"\n",
    "\n",
    "    edge_index = None\n",
    "    src = [src_mapping[index] for index in df[src_index_col]]\n",
    "    dst = [dst_mapping[index] for index in df[dst_index_col]]\n",
    "    edge_attr = torch.from_numpy( edge_value(df).to_numpy() ).view(-1, 1).to(torch.long)\n",
    "\n",
    "\n",
    "    edge_index = [[], []]\n",
    "    for i in range(edge_attr.shape[0]):\n",
    "        if edge_attr[i]:\n",
    "            edge_index[0].append(src[i])\n",
    "            edge_index[1].append(dst[i])\n",
    "\n",
    "    return torch.tensor(edge_index)\n",
    "\n",
    "def edge_user_post_value(data):\n",
    "  repost_cube =  np.power(data['n_reposts'], 3) \n",
    "  react_sqrt = np.power(data['n_reactions'], 2)\n",
    "  comment = data['n_comments']\n",
    "  react = data['reaction']\n",
    "  \n",
    "  # adds one if the user has reacted to the post\n",
    "  # adds more priority if the post is in the users timeline and has more reposts, reactions and comments\n",
    "\n",
    "  return react * ( repost_cube + react_sqrt + comment )\n",
    "                             \n",
    "edge_user_post = load_edge_csv(\n",
    "    df,\n",
    "    src_index_col='current_user',\n",
    "    src_mapping=user_mapping,\n",
    "    dst_index_col='post_id',\n",
    "    dst_mapping=post_mapping,\n",
    "    edge_value=edge_user_post_value\n",
    ")\n",
    "\n",
    "print( edge_user_post.shape )"
   ]
  },
  {
   "cell_type": "code",
   "execution_count": 247,
   "metadata": {
    "colab": {
     "base_uri": "https://localhost:8080/"
    },
    "id": "2abjhp6-8Ied",
    "outputId": "d5d4c558-d9af-4973-9a7c-6a5a4a438112"
   },
   "outputs": [
    {
     "name": "stdout",
     "output_type": "stream",
     "text": [
      "torch.Size([2, 1227])\n"
     ]
    }
   ],
   "source": [
    "# used in case the author descides to use our product\n",
    "# currently this is not used in the model\n",
    "\n",
    "def edge_author_post_value(data):\n",
    "  repost_quad =  np.power(data['n_reposts'], 4) \n",
    "  react_sqrt = np.power(data['n_reactions'], 2)\n",
    "  comment = data['n_comments']\n",
    "  return repost_quad + react_sqrt + comment\n",
    "\n",
    "edge_author_post = load_edge_csv(\n",
    "    df,\n",
    "    src_index_col='authorUrl',\n",
    "    src_mapping=author_mapping,\n",
    "    dst_index_col='post_id',\n",
    "    dst_mapping=post_mapping,\n",
    "    edge_value=edge_author_post_value\n",
    ")\n",
    "print( edge_author_post.shape )"
   ]
  },
  {
   "cell_type": "code",
   "execution_count": 248,
   "metadata": {
    "id": "zNWvazto-v6Z"
   },
   "outputs": [],
   "source": [
    "# split the edges of the graph using a 80/10/10 train/validation/test split\n",
    "num_users, num_posts = len(user_mapping), len(post_mapping)\n",
    "num_interactions = edge_user_post.shape[1]\n",
    "all_indices = [i for i in range(num_interactions)]\n",
    "\n",
    "train_indices, test_indices = train_test_split(\n",
    "    all_indices, test_size=0.2, random_state=1)\n",
    "val_indices, test_indices = train_test_split(\n",
    "    test_indices, test_size=0.5, random_state=1)\n",
    "\n",
    "\n",
    "train_edge_index = edge_user_post[:, train_indices]\n",
    "val_edge_index = edge_user_post[:, val_indices]\n",
    "test_edge_index = edge_user_post[:, test_indices]"
   ]
  },
  {
   "cell_type": "code",
   "execution_count": 249,
   "metadata": {
    "id": "V2GVw0jC_9Kw"
   },
   "outputs": [],
   "source": [
    "# convert edge indices into Sparse Tensors: https://pytorch-geometric.readthedocs.io/en/latest/notes/sparse_tensor.html\n",
    "train_sparse_edge_index = SparseTensor(row=train_edge_index[0], col=train_edge_index[1], sparse_sizes=(\n",
    "    num_users + num_posts, num_users + num_posts))\n"
   ]
  },
  {
   "cell_type": "code",
   "execution_count": 250,
   "metadata": {
    "id": "vK4WQPBdAM8x"
   },
   "outputs": [],
   "source": [
    "val_sparse_edge_index = SparseTensor(row=val_edge_index[0], col=val_edge_index[1], sparse_sizes=(\n",
    "    num_users + num_posts, num_users + num_posts))\n"
   ]
  },
  {
   "cell_type": "code",
   "execution_count": 251,
   "metadata": {
    "id": "KuN00t_SAP7t"
   },
   "outputs": [],
   "source": [
    "test_sparse_edge_index = SparseTensor(row=test_edge_index[0], col=test_edge_index[1], sparse_sizes=(\n",
    "    num_users + num_posts, num_users + num_posts))"
   ]
  },
  {
   "cell_type": "code",
   "execution_count": 252,
   "metadata": {
    "id": "o9GvYg9ehDOX"
   },
   "outputs": [],
   "source": [
    "# code from pytorch geometric lightgcn_pyg.ipynb implementation\n",
    "# defines LightGCN model\n",
    "class LightGCN(MessagePassing):\n",
    "    \"\"\"LightGCN Model as proposed in https://arxiv.org/abs/2002.02126\n",
    "    \"\"\"\n",
    "\n",
    "    def __init__(self, num_users, num_items, edge_user_post, embedding_dim=64, K=3, add_self_loops=False):\n",
    "        \"\"\"Initializes LightGCN Model\n",
    "\n",
    "        Args:\n",
    "            num_users (int): Number of users\n",
    "            num_items (int): Number of items\n",
    "            embedding_dim (int, optional): Dimensionality of embeddings. Defaults to 8.\n",
    "            K (int, optional): Number of message passing layers. Defaults to 3.\n",
    "            add_self_loops (bool, optional): Whether to add self loops for message passing. Defaults to False.\n",
    "        \"\"\"\n",
    "        super().__init__()\n",
    "        self.num_users, self.num_items = num_users, num_items\n",
    "        self.embedding_dim, self.K = embedding_dim, K\n",
    "        self.add_self_loops = add_self_loops\n",
    "\n",
    "        self.users_emb = nn.Embedding(\n",
    "            num_embeddings=self.num_users, embedding_dim=self.embedding_dim) # e_u^0\n",
    "        self.items_emb = nn.Embedding(\n",
    "            num_embeddings=self.num_items, embedding_dim=self.embedding_dim) # e_i^0\n",
    "        self.edge_user_post = edge_user_post\n",
    "        \n",
    "        nn.init.normal_(self.users_emb.weight, std=0.1)\n",
    "        nn.init.normal_(self.items_emb.weight, std=0.1)\n",
    "\n",
    "    def forward(self, edge_index: SparseTensor):\n",
    "        \"\"\"Forward propagation of LightGCN Model.\n",
    "\n",
    "        Args:\n",
    "            edge_index (SparseTensor): adjacency matrix\n",
    "\n",
    "        Returns:\n",
    "            tuple (Tensor): e_u_k, e_u_0, e_i_k, e_i_0\n",
    "        \"\"\"\n",
    "        # compute \\tilde{A}: symmetrically normalized adjacency matrix\n",
    "        edge_index_norm = gcn_norm(\n",
    "            edge_index, add_self_loops=self.add_self_loops)\n",
    "\n",
    "        emb_0 = torch.cat([self.users_emb.weight, self.items_emb.weight]) # E^0\n",
    "        embs = [emb_0]\n",
    "        emb_k = emb_0\n",
    "\n",
    "        # multi-scale diffusion\n",
    "        for i in range(self.K):\n",
    "            emb_k = self.propagate(edge_index_norm, x=emb_k)\n",
    "            embs.append(emb_k)\n",
    "\n",
    "        embs = torch.stack(embs, dim=1)\n",
    "        emb_final = torch.mean(embs, dim=1) # E^K\n",
    "\n",
    "        users_emb_final, items_emb_final = torch.split(\n",
    "            emb_final, [self.num_users, self.num_items]) # splits into e_u^K and e_i^K\n",
    "\n",
    "        # returns e_u^K, e_u^0, e_i^K, e_i^0\n",
    "        return users_emb_final, self.users_emb.weight, items_emb_final, self.items_emb.weight\n",
    "\n",
    "    def message(self, x_j: Tensor) -> Tensor:\n",
    "        return x_j\n",
    "\n",
    "    def message_and_aggregate(self, adj_t: SparseTensor, x: Tensor) -> Tensor:\n",
    "        # computes \\tilde{A} @ x\n",
    "        return matmul(adj_t, x)\n",
    "\n",
    "model = LightGCN(num_users, num_posts, edge_user_post)"
   ]
  },
  {
   "cell_type": "code",
   "execution_count": 253,
   "metadata": {
    "id": "YoAgiv2tbivg"
   },
   "outputs": [],
   "source": [
    "def bpr_loss(users_emb_final, users_emb_0, pos_items_emb_final, pos_items_emb_0, neg_items_emb_final, neg_items_emb_0, lambda_val):\n",
    "    \"\"\"Bayesian Personalized Ranking Loss as described in https://arxiv.org/abs/1205.2618\n",
    "\n",
    "    Args:\n",
    "        users_emb_final (torch.Tensor): e_u_k\n",
    "        users_emb_0 (torch.Tensor): e_u_0\n",
    "        pos_items_emb_final (torch.Tensor): positive e_i_k\n",
    "        pos_items_emb_0 (torch.Tensor): positive e_i_0\n",
    "        neg_items_emb_final (torch.Tensor): negative e_i_k\n",
    "        neg_items_emb_0 (torch.Tensor): negative e_i_0\n",
    "        lambda_val (float): lambda value for regularization loss term\n",
    "\n",
    "    Returns:\n",
    "        torch.Tensor: scalar bpr loss value\n",
    "    \"\"\"\n",
    "    reg_loss = lambda_val * (users_emb_0.norm(2).pow(2) +\n",
    "                             pos_items_emb_0.norm(2).pow(2) +\n",
    "                             neg_items_emb_0.norm(2).pow(2)) # L2 loss\n",
    "\n",
    "    pos_scores = torch.mul(users_emb_final, pos_items_emb_final)\n",
    "    pos_scores = torch.sum(pos_scores, dim=-1) # predicted scores of positive samples\n",
    "    neg_scores = torch.mul(users_emb_final, neg_items_emb_final)\n",
    "    neg_scores = torch.sum(neg_scores, dim=-1) # predicted scores of negative samples\n",
    "\n",
    "    loss = -torch.mean(torch.nn.functional.softplus(pos_scores - neg_scores)) + reg_loss\n",
    "\n",
    "    return loss"
   ]
  },
  {
   "cell_type": "code",
   "execution_count": 254,
   "metadata": {
    "id": "Ln-CBOzlc2TH"
   },
   "outputs": [],
   "source": [
    "# helper function to get N_u\n",
    "def get_user_positive_items(edge_index):\n",
    "    \"\"\"Generates dictionary of positive items for each user\n",
    "\n",
    "    Args:\n",
    "        edge_index (torch.Tensor): 2 by N list of edges\n",
    "\n",
    "    Returns:\n",
    "        dict: dictionary of positive items for each user\n",
    "    \"\"\"\n",
    "    user_pos_items = {}\n",
    "    for i in range(edge_index.shape[1]):\n",
    "        user = edge_index[0][i].item()\n",
    "        item = edge_index[1][i].item()\n",
    "        if user not in user_pos_items:\n",
    "            user_pos_items[user] = []\n",
    "        user_pos_items[user].append(item)\n",
    "    return user_pos_items"
   ]
  },
  {
   "cell_type": "code",
   "execution_count": 255,
   "metadata": {
    "id": "2QDGzBYKc7oQ"
   },
   "outputs": [],
   "source": [
    "# computes recall@K and precision@K\n",
    "def RecallPrecision_ATk(groundTruth, r, k):\n",
    "    \"\"\"Computers recall @ k and precision @ k\n",
    "\n",
    "    Args:\n",
    "        groundTruth (list): list of lists containing highly rated items of each user\n",
    "        r (list): list of lists indicating whether each top k item recommended to each user\n",
    "            is a top k ground truth item or not\n",
    "        k (intg): determines the top k items to compute precision and recall on\n",
    "\n",
    "    Returns:\n",
    "        tuple: recall @ k, precision @ k\n",
    "    \"\"\"\n",
    "    num_correct_pred = torch.sum(r, dim=-1)  # number of correctly predicted items per user\n",
    "    # number of items liked by each user in the test set\n",
    "    user_num_liked = torch.Tensor([len(groundTruth[i])\n",
    "                                  for i in range(len(groundTruth))])\n",
    "    recall = torch.mean(num_correct_pred / user_num_liked)\n",
    "    precision = torch.mean(num_correct_pred) / k\n",
    "    return recall.item(), precision.item()"
   ]
  },
  {
   "cell_type": "code",
   "execution_count": 256,
   "metadata": {
    "id": "dqILc56uc8m-"
   },
   "outputs": [],
   "source": [
    "# computes NDCG@K\n",
    "def NDCGatK_r(groundTruth, r, k):\n",
    "    \"\"\"Computes Normalized Discounted Cumulative Gain (NDCG) @ k\n",
    "\n",
    "    Args:\n",
    "        groundTruth (list): list of lists containing highly rated items of each user\n",
    "        r (list): list of lists indicating whether each top k item recommended to each user\n",
    "            is a top k ground truth item or not\n",
    "        k (int): determines the top k items to compute ndcg on\n",
    "\n",
    "    Returns:\n",
    "        float: ndcg @ k\n",
    "    \"\"\"\n",
    "    assert len(r) == len(groundTruth)\n",
    "\n",
    "    test_matrix = torch.zeros((len(r), k))\n",
    "\n",
    "    for i, items in enumerate(groundTruth):\n",
    "        length = min(len(items), k)\n",
    "        test_matrix[i, :length] = 1\n",
    "    max_r = test_matrix\n",
    "    idcg = torch.sum(max_r * 1. / torch.log2(torch.arange(2, k + 2)), axis=1)\n",
    "    dcg = r * (1. / torch.log2(torch.arange(2, k + 2)))\n",
    "    dcg = torch.sum(dcg, axis=1)\n",
    "    idcg[idcg == 0.] = 1.\n",
    "    ndcg = dcg / idcg\n",
    "    ndcg[torch.isnan(ndcg)] = 0.\n",
    "    return torch.mean(ndcg).item()"
   ]
  },
  {
   "cell_type": "code",
   "execution_count": 257,
   "metadata": {
    "id": "D4s7BsAGc9gg"
   },
   "outputs": [],
   "source": [
    "# wrapper function to get evaluation metrics\n",
    "def get_metrics(model, edge_index, exclude_edge_indices, k):\n",
    "    \"\"\"Computes the evaluation metrics: recall, precision, and ndcg @ k\n",
    "\n",
    "    Args:\n",
    "        model (LighGCN): lightgcn model\n",
    "        edge_index (torch.Tensor): 2 by N list of edges for split to evaluate\n",
    "        exclude_edge_indices ([type]): 2 by N list of edges for split to discount from evaluation\n",
    "        k (int): determines the top k items to compute metrics on\n",
    "\n",
    "    Returns:\n",
    "        tuple: recall @ k, precision @ k, ndcg @ k\n",
    "    \"\"\"\n",
    "    user_embedding = model.users_emb.weight\n",
    "    item_embedding = model.items_emb.weight\n",
    "\n",
    "    # get edge weights between every user and item - shape is num users x num posts\n",
    "    edge_weight = torch.matmul(user_embedding, item_embedding.T)\n",
    "\n",
    "    for exclude_edge_index in exclude_edge_indices:\n",
    "        # gets all the positive items for each user from the edge index\n",
    "        user_pos_items = get_user_positive_items(exclude_edge_index)\n",
    "        # get coordinates of all edges to exclude\n",
    "        exclude_users = []\n",
    "        exclude_items = []\n",
    "        for user, items in user_pos_items.items():\n",
    "            exclude_users.extend([user] * len(items))\n",
    "            exclude_items.extend(items)\n",
    "\n",
    "        # set weights of excluded edges to large negative value\n",
    "        edge_weight[exclude_users, exclude_items] = -(1 << 10)\n",
    "\n",
    "    # get the top k recommended items for each user\n",
    "    _, top_K_items = torch.topk(edge_weight, k=k)\n",
    "\n",
    "    # get all unique users in evaluated split\n",
    "    users = edge_index[0].unique()\n",
    "\n",
    "    test_user_pos_items = get_user_positive_items(edge_index)\n",
    "\n",
    "    # convert test user pos items dictionary into a list\n",
    "    test_user_pos_items_list = [\n",
    "        test_user_pos_items[user.item()] for user in users]\n",
    "\n",
    "    # determine the correctness of topk predictions\n",
    "    r = []\n",
    "    for user in users:\n",
    "        ground_truth_items = test_user_pos_items[user.item()]\n",
    "        label = list(map(lambda x: x in ground_truth_items, top_K_items[user]))\n",
    "        r.append(label)\n",
    "    r = torch.Tensor(np.array(r).astype('float'))\n",
    "\n",
    "    recall, precision = RecallPrecision_ATk(test_user_pos_items_list, r, k)\n",
    "    ndcg = NDCGatK_r(test_user_pos_items_list, r, k)\n",
    "\n",
    "    return recall, precision, ndcg"
   ]
  },
  {
   "cell_type": "code",
   "execution_count": 258,
   "metadata": {
    "id": "T5z-ybmSc-gv"
   },
   "outputs": [],
   "source": [
    "# wrapper function to evaluate model\n",
    "def evaluation(model, edge_index, sparse_edge_index, exclude_edge_indices, k, lambda_val):\n",
    "    \"\"\"Evaluates model loss and metrics including recall, precision, ndcg @ k\n",
    "\n",
    "    Args:\n",
    "        model (LighGCN): lightgcn model\n",
    "        edge_index (torch.Tensor): 2 by N list of edges for split to evaluate\n",
    "        sparse_edge_index (sparseTensor): sparse adjacency matrix for split to evaluate\n",
    "        exclude_edge_indices ([type]): 2 by N list of edges for split to discount from evaluation\n",
    "        k (int): determines the top k items to compute metrics on\n",
    "        lambda_val (float): determines lambda for bpr loss\n",
    "\n",
    "    Returns:\n",
    "        tuple: bpr loss, recall @ k, precision @ k, ndcg @ k\n",
    "    \"\"\"\n",
    "    # get embeddings\n",
    "    users_emb_final, users_emb_0, items_emb_final, items_emb_0 = model.forward(\n",
    "        sparse_edge_index)\n",
    "    edges = structured_negative_sampling(\n",
    "        edge_index, contains_neg_self_loops=False)\n",
    "    user_indices, pos_item_indices, neg_item_indices = edges[0], edges[1], edges[2]\n",
    "    users_emb_final, users_emb_0 = users_emb_final[user_indices], users_emb_0[user_indices]\n",
    "    pos_items_emb_final, pos_items_emb_0 = items_emb_final[\n",
    "        pos_item_indices], items_emb_0[pos_item_indices]\n",
    "    neg_items_emb_final, neg_items_emb_0 = items_emb_final[\n",
    "        neg_item_indices], items_emb_0[neg_item_indices]\n",
    "\n",
    "    loss = bpr_loss(users_emb_final, users_emb_0, pos_items_emb_final, pos_items_emb_0,\n",
    "                    neg_items_emb_final, neg_items_emb_0, lambda_val).item()\n",
    "\n",
    "    recall, precision, ndcg = get_metrics(\n",
    "        model, edge_index, exclude_edge_indices, k)\n",
    "\n",
    "    return loss, recall, precision, ndcg"
   ]
  },
  {
   "cell_type": "code",
   "execution_count": 259,
   "metadata": {
    "id": "Pnq43w_7ociP"
   },
   "outputs": [],
   "source": [
    "# function which random samples a mini-batch of positive and negative samples\n",
    "def sample_mini_batch(batch_size, edge_index):\n",
    "    \"\"\"Randomly samples indices of a minibatch given an adjacency matrix\n",
    "\n",
    "    Args:\n",
    "        batch_size (int): minibatch size\n",
    "        edge_index (torch.Tensor): 2 by N list of edges\n",
    "\n",
    "    Returns:\n",
    "        tuple: user indices, positive item indices, negative item indices\n",
    "    \"\"\"\n",
    "    edges = structured_negative_sampling(edge_index)\n",
    "    edges = torch.stack(edges, dim=0)\n",
    "    indices = random.choices(\n",
    "        [i for i in range(edges[0].shape[0])], k=batch_size)\n",
    "    batch = edges[:, indices]\n",
    "    user_indices, pos_item_indices, neg_item_indices = batch[0], batch[1], batch[2]\n",
    "    return user_indices, pos_item_indices, neg_item_indices"
   ]
  },
  {
   "cell_type": "code",
   "execution_count": 260,
   "metadata": {
    "id": "oYDeeTmLdBL2"
   },
   "outputs": [],
   "source": [
    "# define constants\n",
    "ITERATIONS = 10000\n",
    "BATCH_SIZE = 1024\n",
    "LR = 1e-3\n",
    "ITERS_PER_EVAL = 200\n",
    "ITERS_PER_LR_DECAY = 200\n",
    "K = 20\n",
    "LAMBDA = 1e-6"
   ]
  },
  {
   "cell_type": "code",
   "execution_count": 261,
   "metadata": {
    "colab": {
     "base_uri": "https://localhost:8080/"
    },
    "id": "rebcfrgAdEjd",
    "outputId": "901ed09f-25a1-4082-8655-0cf86c7846bc"
   },
   "outputs": [
    {
     "name": "stdout",
     "output_type": "stream",
     "text": [
      "Using device cuda.\n"
     ]
    }
   ],
   "source": [
    "# setup\n",
    "device = torch.device('cuda' if torch.cuda.is_available() else 'cpu')\n",
    "print(f\"Using device {device}.\")\n",
    "\n",
    "\n",
    "model = model.to(device)\n",
    "model.train()\n",
    "\n",
    "optimizer = optim.Adam(model.parameters(), lr=LR)\n",
    "scheduler = optim.lr_scheduler.ExponentialLR(optimizer, gamma=0.95)\n",
    "\n",
    "edge_user_post = edge_user_post.to(device)\n",
    "train_edge_index = train_edge_index.to(device)\n",
    "train_sparse_edge_index = train_sparse_edge_index.to(device)\n",
    "\n",
    "val_edge_index = val_edge_index.to(device)\n",
    "val_sparse_edge_index = val_sparse_edge_index.to(device)"
   ]
  },
  {
   "cell_type": "code",
   "execution_count": 262,
   "metadata": {
    "colab": {
     "base_uri": "https://localhost:8080/"
    },
    "id": "oqcLfNsqdFo4",
    "outputId": "04da3d3c-bf46-4dc1-8561-bb01219ef4b6",
    "scrolled": true
   },
   "outputs": [
    {
     "name": "stdout",
     "output_type": "stream",
     "text": [
      "[Iteration 0/10000] train_loss: -0.69137, val_loss: -0.69229, val_recall@20: 0.0, val_precision@20: 0.0, val_ndcg@20: 0.0\n",
      "[Iteration 200/10000] train_loss: -0.9224, val_loss: -0.64805, val_recall@20: 0.0, val_precision@20: 0.0, val_ndcg@20: 0.0\n",
      "[Iteration 400/10000] train_loss: -2.07656, val_loss: -0.6614, val_recall@20: 0.0, val_precision@20: 0.0, val_ndcg@20: 0.0\n",
      "[Iteration 600/10000] train_loss: -4.3711, val_loss: -0.50259, val_recall@20: 0.0, val_precision@20: 0.0, val_ndcg@20: 0.0\n",
      "[Iteration 800/10000] train_loss: -7.30087, val_loss: -0.53427, val_recall@20: 0.0, val_precision@20: 0.0, val_ndcg@20: 0.0\n",
      "[Iteration 1000/10000] train_loss: -10.50261, val_loss: -0.56393, val_recall@20: 0.0, val_precision@20: 0.0, val_ndcg@20: 0.0\n",
      "[Iteration 1200/10000] train_loss: -13.84834, val_loss: -0.57736, val_recall@20: 0.0, val_precision@20: 0.0, val_ndcg@20: 0.0\n",
      "[Iteration 1400/10000] train_loss: -17.37877, val_loss: -0.53812, val_recall@20: 0.0, val_precision@20: 0.0, val_ndcg@20: 0.0\n",
      "[Iteration 1600/10000] train_loss: -21.11475, val_loss: -0.57086, val_recall@20: 0.0, val_precision@20: 0.0, val_ndcg@20: 0.0\n",
      "[Iteration 1800/10000] train_loss: -24.79164, val_loss: -0.4811, val_recall@20: 0.0, val_precision@20: 0.0, val_ndcg@20: 0.0\n",
      "[Iteration 2000/10000] train_loss: -28.39097, val_loss: -0.64155, val_recall@20: 0.0, val_precision@20: 0.0, val_ndcg@20: 0.0\n",
      "[Iteration 2200/10000] train_loss: -32.17187, val_loss: -0.54394, val_recall@20: 0.0, val_precision@20: 0.0, val_ndcg@20: 0.0\n",
      "[Iteration 2400/10000] train_loss: -35.65509, val_loss: -0.54663, val_recall@20: 0.0, val_precision@20: 0.0, val_ndcg@20: 0.0\n",
      "[Iteration 2600/10000] train_loss: -39.2405, val_loss: -0.50798, val_recall@20: 0.0, val_precision@20: 0.0, val_ndcg@20: 0.0\n",
      "[Iteration 2800/10000] train_loss: -42.10556, val_loss: -0.62458, val_recall@20: 0.0, val_precision@20: 0.0, val_ndcg@20: 0.0\n",
      "[Iteration 3000/10000] train_loss: -45.57782, val_loss: -0.74817, val_recall@20: 0.0, val_precision@20: 0.0, val_ndcg@20: 0.0\n",
      "[Iteration 3200/10000] train_loss: -49.01825, val_loss: -0.59409, val_recall@20: 0.0, val_precision@20: 0.0, val_ndcg@20: 0.0\n",
      "[Iteration 3400/10000] train_loss: -52.63232, val_loss: -0.45667, val_recall@20: 0.0, val_precision@20: 0.0, val_ndcg@20: 0.0\n",
      "[Iteration 3600/10000] train_loss: -55.83885, val_loss: -0.47408, val_recall@20: 0.0, val_precision@20: 0.0, val_ndcg@20: 0.0\n",
      "[Iteration 3800/10000] train_loss: -58.15546, val_loss: -0.50153, val_recall@20: 0.0, val_precision@20: 0.0, val_ndcg@20: 0.0\n",
      "[Iteration 4000/10000] train_loss: -61.672, val_loss: -0.62933, val_recall@20: 0.0, val_precision@20: 0.0, val_ndcg@20: 0.0\n",
      "[Iteration 4200/10000] train_loss: -63.8354, val_loss: -0.63508, val_recall@20: 0.0, val_precision@20: 0.0, val_ndcg@20: 0.0\n",
      "[Iteration 4400/10000] train_loss: -66.95709, val_loss: -0.6668, val_recall@20: 0.0, val_precision@20: 0.0, val_ndcg@20: 0.0\n",
      "[Iteration 4600/10000] train_loss: -69.44458, val_loss: -0.61633, val_recall@20: 0.0, val_precision@20: 0.0, val_ndcg@20: 0.0\n",
      "[Iteration 4800/10000] train_loss: -71.04705, val_loss: -0.51098, val_recall@20: 0.0, val_precision@20: 0.0, val_ndcg@20: 0.0\n",
      "[Iteration 5000/10000] train_loss: -74.26719, val_loss: -0.44513, val_recall@20: 0.0, val_precision@20: 0.0, val_ndcg@20: 0.0\n",
      "[Iteration 5200/10000] train_loss: -76.67631, val_loss: -0.64786, val_recall@20: 0.0, val_precision@20: 0.0, val_ndcg@20: 0.0\n",
      "[Iteration 5400/10000] train_loss: -78.8252, val_loss: -0.56395, val_recall@20: 0.0, val_precision@20: 0.0, val_ndcg@20: 0.0\n",
      "[Iteration 5600/10000] train_loss: -80.86835, val_loss: -0.57045, val_recall@20: 0.0, val_precision@20: 0.0, val_ndcg@20: 0.0\n",
      "[Iteration 5800/10000] train_loss: -82.58531, val_loss: -0.63406, val_recall@20: 0.0, val_precision@20: 0.0, val_ndcg@20: 0.0\n",
      "[Iteration 6000/10000] train_loss: -84.40958, val_loss: -0.51092, val_recall@20: 0.0, val_precision@20: 0.0, val_ndcg@20: 0.0\n",
      "[Iteration 6200/10000] train_loss: -86.73323, val_loss: -0.62459, val_recall@20: 0.0, val_precision@20: 0.0, val_ndcg@20: 0.0\n",
      "[Iteration 6400/10000] train_loss: -88.26926, val_loss: -0.6034, val_recall@20: 0.0, val_precision@20: 0.0, val_ndcg@20: 0.0\n",
      "[Iteration 6600/10000] train_loss: -89.86177, val_loss: -0.54731, val_recall@20: 0.0, val_precision@20: 0.0, val_ndcg@20: 0.0\n",
      "[Iteration 6800/10000] train_loss: -90.9659, val_loss: -0.31981, val_recall@20: 0.0, val_precision@20: 0.0, val_ndcg@20: 0.0\n",
      "[Iteration 7000/10000] train_loss: -91.40559, val_loss: -0.496, val_recall@20: 0.0, val_precision@20: 0.0, val_ndcg@20: 0.0\n",
      "[Iteration 7200/10000] train_loss: -94.33379, val_loss: -0.51219, val_recall@20: 0.0, val_precision@20: 0.0, val_ndcg@20: 0.0\n",
      "[Iteration 7400/10000] train_loss: -95.74849, val_loss: -0.65886, val_recall@20: 0.0, val_precision@20: 0.0, val_ndcg@20: 0.0\n",
      "[Iteration 7600/10000] train_loss: -97.1408, val_loss: -0.47465, val_recall@20: 0.0, val_precision@20: 0.0, val_ndcg@20: 0.0\n",
      "[Iteration 7800/10000] train_loss: -97.97366, val_loss: -0.43747, val_recall@20: 0.0, val_precision@20: 0.0, val_ndcg@20: 0.0\n",
      "[Iteration 8000/10000] train_loss: -99.65919, val_loss: -0.4425, val_recall@20: 0.0, val_precision@20: 0.0, val_ndcg@20: 0.0\n",
      "[Iteration 8200/10000] train_loss: -100.56735, val_loss: -0.43229, val_recall@20: 0.0, val_precision@20: 0.0, val_ndcg@20: 0.0\n",
      "[Iteration 8400/10000] train_loss: -101.67422, val_loss: -0.68025, val_recall@20: 0.0, val_precision@20: 0.0, val_ndcg@20: 0.0\n",
      "[Iteration 8600/10000] train_loss: -102.89536, val_loss: -0.4949, val_recall@20: 0.0, val_precision@20: 0.0, val_ndcg@20: 0.0\n",
      "[Iteration 8800/10000] train_loss: -103.84, val_loss: -0.57373, val_recall@20: 0.0, val_precision@20: 0.0, val_ndcg@20: 0.0\n",
      "[Iteration 9000/10000] train_loss: -104.32793, val_loss: -0.56036, val_recall@20: 0.0, val_precision@20: 0.0, val_ndcg@20: 0.0\n",
      "[Iteration 9200/10000] train_loss: -105.30608, val_loss: -0.57965, val_recall@20: 0.0, val_precision@20: 0.0, val_ndcg@20: 0.0\n",
      "[Iteration 9400/10000] train_loss: -106.83607, val_loss: -0.45174, val_recall@20: 0.0, val_precision@20: 0.0, val_ndcg@20: 0.0\n",
      "[Iteration 9600/10000] train_loss: -107.78846, val_loss: -0.39512, val_recall@20: 0.0, val_precision@20: 0.0, val_ndcg@20: 0.0\n",
      "[Iteration 9800/10000] train_loss: -107.48032, val_loss: -0.38577, val_recall@20: 0.0, val_precision@20: 0.0, val_ndcg@20: 0.0\n"
     ]
    }
   ],
   "source": [
    "# training loop\n",
    "train_losses = []\n",
    "val_losses = []\n",
    "\n",
    "precisions = []\n",
    "recalls = []\n",
    "\n",
    "for iter in range(ITERATIONS):\n",
    "    # forward propagation\n",
    "    users_emb_final, users_emb_0, items_emb_final, items_emb_0 = model.forward(\n",
    "        train_sparse_edge_index)\n",
    "\n",
    "    # mini batching\n",
    "    user_indices, pos_item_indices, neg_item_indices = sample_mini_batch(\n",
    "        BATCH_SIZE, train_edge_index)\n",
    "    user_indices, pos_item_indices, neg_item_indices = user_indices.to(\n",
    "        device), pos_item_indices.to(device), neg_item_indices.to(device)\n",
    "    users_emb_final, users_emb_0 = users_emb_final[user_indices], users_emb_0[user_indices]\n",
    "    pos_items_emb_final, pos_items_emb_0 = items_emb_final[\n",
    "        pos_item_indices], items_emb_0[pos_item_indices]\n",
    "    neg_items_emb_final, neg_items_emb_0 = items_emb_final[\n",
    "        neg_item_indices], items_emb_0[neg_item_indices]\n",
    "\n",
    "    # loss computation\n",
    "    train_loss = bpr_loss(users_emb_final, users_emb_0, pos_items_emb_final,\n",
    "                          pos_items_emb_0, neg_items_emb_final, neg_items_emb_0, LAMBDA)\n",
    "\n",
    "    optimizer.zero_grad()\n",
    "    train_loss.backward()\n",
    "    optimizer.step()\n",
    "\n",
    "    if iter % ITERS_PER_EVAL == 0:\n",
    "        model.eval()\n",
    "        val_loss, recall, precision, ndcg = evaluation(\n",
    "            model, val_edge_index, val_sparse_edge_index, [train_edge_index], K, LAMBDA)\n",
    "        print(f\"[Iteration {iter}/{ITERATIONS}] train_loss: {round(train_loss.item(), 5)}, val_loss: {round(val_loss, 5)}, val_recall@{K}: {round(recall, 5)}, val_precision@{K}: {round(precision, 5)}, val_ndcg@{K}: {round(ndcg, 5)}\")\n",
    "        \n",
    "        precisions.append(precision)\n",
    "        recalls.append(recall)\n",
    "        \n",
    "        train_losses.append(train_loss.item())\n",
    "        val_losses.append(val_loss)\n",
    "        model.train()\n",
    "\n",
    "    if iter % ITERS_PER_LR_DECAY == 0 and iter != 0:\n",
    "        scheduler.step()"
   ]
  },
  {
   "cell_type": "code",
   "execution_count": 263,
   "metadata": {
    "colab": {
     "base_uri": "https://localhost:8080/",
     "height": 472
    },
    "id": "1fQO5YMYoXRU",
    "outputId": "1e5c735e-b050-40b8-e28a-6373ad3b31b7"
   },
   "outputs": [
    {
     "data": {
      "image/png": "[encoded data removed]",
      "text/plain": [
       "<Figure size 640x480 with 1 Axes>"
      ]
     },
     "metadata": {},
     "output_type": "display_data"
    }
   ],
   "source": [
    "iters = [iter * ITERS_PER_EVAL for iter in range(len(train_losses))]\n",
    "plt.plot(iters, train_losses, label='train')\n",
    "plt.plot(iters, val_losses, label='validation')\n",
    "plt.xlabel('iteration')\n",
    "plt.ylabel('loss')\n",
    "plt.title('training and validation loss curves')\n",
    "plt.legend()\n",
    "plt.show()"
   ]
  },
  {
   "cell_type": "code",
   "execution_count": 280,
   "metadata": {},
   "outputs": [
    {
     "data": {
      "image/png": "[encoded data removed]",
      "text/plain": [
       "<Figure size 640x480 with 1 Axes>"
      ]
     },
     "metadata": {},
     "output_type": "display_data"
    }
   ],
   "source": [
    "iters = [iter * ITERS_PER_EVAL for iter in range(len(train_losses))]\n",
    "plt.plot(iters, precisions, label='precision')\n",
    "plt.plot(iters, recalls, label='recall')\n",
    "plt.xlabel('iteration')\n",
    "plt.ylabel('top precision')\n",
    "plt.title('training and validation loss curves')\n",
    "plt.legend()\n",
    "plt.show()"
   ]
  },
  {
   "cell_type": "code",
   "execution_count": 264,
   "metadata": {},
   "outputs": [
    {
     "data": {
      "text/plain": [
       "torch.Size([7, 64])"
      ]
     },
     "execution_count": 264,
     "metadata": {},
     "output_type": "execute_result"
    }
   ],
   "source": [
    "model.users_emb.weight.shape"
   ]
  },
  {
   "cell_type": "code",
   "execution_count": 265,
   "metadata": {},
   "outputs": [],
   "source": [
    "torch.save(model, 'saved_model.pt')"
   ]
  },
  {
   "cell_type": "code",
   "execution_count": 266,
   "metadata": {},
   "outputs": [],
   "source": [
    "s3.upload_file(\n",
    "    Filename=os.path.join('.', 'saved_model.pt'),\n",
    "    Bucket='ecc-model-dump',\n",
    "    Key='saved_model.pt',\n",
    ")"
   ]
  },
  {
   "cell_type": "code",
   "execution_count": 267,
   "metadata": {},
   "outputs": [],
   "source": [
    "s3.download_file(\n",
    "    'ecc-model-dump',\n",
    "    'saved_model.pt', \n",
    "    'saved_model.pt'\n",
    ")"
   ]
  },
  {
   "cell_type": "code",
   "execution_count": 268,
   "metadata": {},
   "outputs": [],
   "source": [
    "model2 = torch.load('saved_model.pt')"
   ]
  },
  {
   "cell_type": "code",
   "execution_count": 269,
   "metadata": {},
   "outputs": [],
   "source": [
    "# model2 = LightGCN(num_users, num_posts)\n",
    "# with open(os.path.join('.', 'saved_model.pt'), 'rb') as f:\n",
    "#     model2.load_state_dict(torch.load(f))"
   ]
  },
  {
   "cell_type": "code",
   "execution_count": 270,
   "metadata": {},
   "outputs": [
    {
     "data": {
      "text/plain": [
       "torch.Size([7, 64])"
      ]
     },
     "execution_count": 270,
     "metadata": {},
     "output_type": "execute_result"
    }
   ],
   "source": [
    "model2.users_emb.weight.shape"
   ]
  },
  {
   "cell_type": "code",
   "execution_count": 271,
   "metadata": {},
   "outputs": [],
   "source": [
    "model = model2"
   ]
  },
  {
   "cell_type": "code",
   "execution_count": 272,
   "metadata": {
    "colab": {
     "base_uri": "https://localhost:8080/"
    },
    "id": "tnlnCTuLot-A",
    "outputId": "39dc3a80-33b1-41ec-aad2-b3827430f86c"
   },
   "outputs": [
    {
     "name": "stdout",
     "output_type": "stream",
     "text": [
      "[test_loss: -0.71362, test_recall@20: 0.0, test_precision@20: 0.0, test_ndcg@20: 0.0\n"
     ]
    }
   ],
   "source": [
    "# evaluate on test set\n",
    "model.eval()\n",
    "test_edge_index = test_edge_index.to(device)\n",
    "test_sparse_edge_index = test_sparse_edge_index.to(device)\n",
    "\n",
    "test_loss, test_recall, test_precision, test_ndcg = evaluation(\n",
    "            model, test_edge_index, test_sparse_edge_index, [train_edge_index, val_edge_index], K, LAMBDA)\n",
    "\n",
    "print(f\"[test_loss: {round(test_loss, 5)}, test_recall@{K}: {round(test_recall, 5)}, test_precision@{K}: {round(test_precision, 5)}, test_ndcg@{K}: {round(test_ndcg, 5)}\")"
   ]
  },
  {
   "cell_type": "code",
   "execution_count": 273,
   "metadata": {
    "id": "yysKCsGwou3F"
   },
   "outputs": [],
   "source": [
    "model.eval()\n",
    "\n",
    "postid_text = pd.Series(df.text.values, index=df.post_id).to_dict()\n",
    "postid_author = pd.Series(df.author.values, index=df.post_id).to_dict()\n",
    "postid_original_user = pd.Series(df.current_user.values, index=df.post_id).to_dict()\n",
    "\n",
    "user_pos_items = get_user_positive_items(edge_user_post)"
   ]
  },
  {
   "cell_type": "code",
   "execution_count": 274,
   "metadata": {
    "id": "9miGTgl_pEz8"
   },
   "outputs": [],
   "source": [
    "def make_predictions(user_id, num_recs):\n",
    "    if user_id not in user_mapping:\n",
    "        print('User does not exist')\n",
    "        return\n",
    "    \n",
    "    user = user_mapping[user_id]\n",
    "    e_u = model.users_emb.weight[user]\n",
    "    scores = model.items_emb.weight @ e_u\n",
    "    \n",
    "    values, indices = torch.topk(scores, k=len(user_pos_items[user]) + num_recs)\n",
    "    \n",
    "    posts = [index.cpu().item() for index in indices if index in user_pos_items[user]][:num_recs]\n",
    "    \n",
    "    post_ids = [list(post_mapping.keys())[list(post_mapping.values()).index(post)] for post in posts]\n",
    "    texts = [postid_text[id] for id in post_ids]\n",
    "    authors =  [postid_author[id] for id in post_ids]\n",
    "    original_users = [postid_original_user[id] for id in post_ids]\n",
    "    \n",
    "    data = {}\n",
    "    data['user'] = user_id\n",
    "    data['liked'] = []\n",
    "    data['recommended'] = []\n",
    "    \n",
    "    print(f\"Here are some posts that user {user_id} liked\")\n",
    "    for i in range(len(post_ids)):\n",
    "        data['liked'].append(\n",
    "            {\n",
    "                'author': str(authors[i]),\n",
    "                'original_user': original_users[i],\n",
    "                'post_id': f\"https://www.linkedin.com/feed/update/{post_ids[i]}/\",\n",
    "                'post_body': texts[i]\n",
    "            }\n",
    "        )\n",
    "        print(\"--------------------------------------------------------\")\n",
    "        print(f\"Author: {authors[i]}\")\n",
    "        print(f\"Original user: {original_users[i]} \")\n",
    "        print(f\"Post URL: https://www.linkedin.com/feed/update/{post_ids[i]}/\")\n",
    "        print(f\"Post Body: {texts[i]} \")\n",
    "\n",
    "    print()\n",
    "\n",
    "    posts = [index.cpu().item() for index in indices if index not in user_pos_items[user]][:num_recs]\n",
    "    post_ids = [list(post_mapping.keys())[list(post_mapping.values()).index(post)] for post in posts]\n",
    "    texts = [postid_text[id] for id in post_ids]\n",
    "    authors =  [postid_author[id] for id in post_ids]\n",
    "    original_users = [postid_original_user[id] for id in post_ids]\n",
    "\n",
    "    print(f\"Here are some suggested posts for user {user_id}\")\n",
    "    for i in range(len(post_ids)):\n",
    "        data['recommended'].append(\n",
    "            {\n",
    "                'author': authors[i],\n",
    "                'original_user': original_users[i],\n",
    "                'post_id': f\"https://www.linkedin.com/feed/update/{post_ids[i]}/\",\n",
    "                'post_body': texts[i]\n",
    "            }\n",
    "        )\n",
    "        print(\"--------------------------------------------------------\")\n",
    "        print(f\"Author: {authors[i]} \")\n",
    "        print(f\"Original user: {original_users[i]} \")\n",
    "        print(f\"Post URL: https://www.linkedin.com/feed/update/{post_ids[i]}/\")\n",
    "        print(f\"Post Body: {texts[i]} \")\n",
    "    \n",
    "    \n",
    "    return data"
   ]
  },
  {
   "cell_type": "code",
   "execution_count": 275,
   "metadata": {
    "colab": {
     "base_uri": "https://localhost:8080/"
    },
    "id": "7k72RtwVqsXy",
    "outputId": "079e44e3-d2c4-4b3d-c06f-0ab1be779b76"
   },
   "outputs": [
    {
     "name": "stdout",
     "output_type": "stream",
     "text": [
      "Here are some posts that user skini25 liked\n",
      "--------------------------------------------------------\n",
      "Author: Matt Gray\n",
      "Original user: skini25 \n",
      "Post URL: https://www.linkedin.com/feed/update/urn:li:activity:7049046438068056064/\n",
      "Post Body: Twitter just open-sourced their algorithm. I spent my Saturday night checking it out. There are a ton of hidden gems for growth. Here are 6 insights to increase your reach: \n",
      "\n",
      "Here are some suggested posts for user skini25\n",
      "--------------------------------------------------------\n",
      "Author: Nikhit Nair \n",
      "Original user: kssreesha \n",
      "Post URL: https://www.linkedin.com/feed/update/urn:li:activity:7052156840830259200/\n",
      "Post Body: I'm happy to share, I am starting a new role as Associate Architect at Myntra. #newrole \n"
     ]
    }
   ],
   "source": [
    "data = make_predictions('skini25', 1)"
   ]
  },
  {
   "cell_type": "code",
   "execution_count": 276,
   "metadata": {
    "id": "4jyMzGV5q5-c"
   },
   "outputs": [],
   "source": [
    "# %%capture\n",
    "\n",
    "# !sudo apt-get install texlive-xetex texlive-fonts-recommended texlive-plain-generic\n",
    "\n",
    "# !jupyter nbconvert --to PDF \"gnn_pytorch.ipynb\""
   ]
  },
  {
   "cell_type": "code",
   "execution_count": 277,
   "metadata": {},
   "outputs": [],
   "source": [
    "# !pip list --format=freeze > requirements2.txt"
   ]
  },
  {
   "cell_type": "code",
   "execution_count": 278,
   "metadata": {},
   "outputs": [],
   "source": [
    "config_dict = {\n",
    "    \"num_samples_per_user\": 500,\n",
    "    \"num_users\": 200,\n",
    "\n",
    "    \"epochs\": 100,\n",
    "    \"batch_size\": 128,\n",
    "    \"lr\": 0.001,\n",
    "    \"weight_decay\": 0.1,\n",
    "\n",
    "    \"embedding_size\": 64,\n",
    "    \"num_layers\": 5,\n",
    "    \"K\": 10,\n",
    "    \"mf_rank\": 8,\n",
    "\n",
    "    \"minibatch_per_print\": 100,\n",
    "    \"epochs_per_print\": 1,\n",
    "\n",
    "    \"val_frac\": 0.2,\n",
    "    \"test_frac\": 0.1,\n",
    "\n",
    "    \"model_name\": \"model.pth\"\n",
    "}"
   ]
  },
  {
   "cell_type": "code",
   "execution_count": 279,
   "metadata": {},
   "outputs": [],
   "source": [
    "# n_users = num_users\n",
    "# m_items = num_posts\n",
    "# print(f\"#Users: {n_users}\")\n",
    "# print(f\"#Items: {m_items}\")\n",
    "\n",
    "# model_config = {\n",
    "#     \"n_users\": n_users,\n",
    "#     \"m_items\": m_items,\n",
    "#     \"embedding_size\": config_dict[\"embedding_size\"],\n",
    "#     \"num_layers\": config_dict[\"num_layers\"],\n",
    "# }\n",
    "\n",
    "# device = torch.device(\"cuda\" if torch.cuda.is_available() else \"cpu\")\n",
    "# lightGCN = LightGCN(n_users, m_items, config_dict[\"embedding_size\"],config_dict[\"num_layers\"])\n",
    "\n",
    "# scheduler = optim.lr_scheduler.ExponentialLR(optimizer, gamma=0.95)\n",
    "\n",
    "# edge_user_post = edge_user_post.to(device)\n",
    "# train_edge_index = train_edge_index.to(device)\n",
    "# train_sparse_edge_index = train_sparse_edge_index.to(device)\n",
    "\n",
    "# val_edge_index = val_edge_index.to(device)\n",
    "# val_sparse_edge_index = val_sparse_edge_index.to(device)\n",
    "\n",
    "# print(f\"#Training samples: {len(samples_train)}\",\n",
    "#       f\"#Validation samples: {len(samples_val)}\",\n",
    "#       f\"#Test samples: {len(samples_test)}\")\n",
    "\n",
    "# optimizer = optim.Adam(lightGCN.parameters(), lr=lr)\n",
    "# print(\"Optimizer:\", optimizer)\n",
    "\n",
    "# epochs_tracked = []\n",
    "# train_topks = []\n",
    "# val_topks = []\n",
    "\n",
    "# # training loop\n",
    "# train_losses = []\n",
    "# val_losses = []\n",
    "\n",
    "# ITERATIONS = config_dict[\"epochs\"]\n",
    "# BATCH_SIZE = config_dict[\"batch_size\"]\n",
    "# LR = = config_dict[\"lr\"]\n",
    "# weight_decay = config_dict[\"weight_decay\"]\n",
    "\n",
    "# # number of message passing layers\n",
    "# K = config_dict[\"K\"]\n",
    "\n",
    "# lightGCN.to(device)\n",
    "\n",
    "# for iter in range(ITERATIONS):\n",
    "#     # forward propagation\n",
    "#     users_emb_final, users_emb_0, items_emb_final, items_emb_0 = model.forward(\n",
    "#         train_sparse_edge_index)\n",
    "\n",
    "#     # mini batching\n",
    "#     user_indices, pos_item_indices, neg_item_indices = sample_mini_batch(\n",
    "#         BATCH_SIZE, train_edge_index)\n",
    "#     user_indices, pos_item_indices, neg_item_indices = user_indices.to(\n",
    "#         device), pos_item_indices.to(device), neg_item_indices.to(device)\n",
    "#     users_emb_final, users_emb_0 = users_emb_final[user_indices], users_emb_0[user_indices]\n",
    "#     pos_items_emb_final, pos_items_emb_0 = items_emb_final[\n",
    "#         pos_item_indices], items_emb_0[pos_item_indices]\n",
    "#     neg_items_emb_final, neg_items_emb_0 = items_emb_final[\n",
    "#         neg_item_indices], items_emb_0[neg_item_indices]\n",
    "\n",
    "#     # loss computation\n",
    "#     train_loss = bpr_loss(users_emb_final, users_emb_0, pos_items_emb_final,\n",
    "#                           pos_items_emb_0, neg_items_emb_final, neg_items_emb_0, LAMBDA)\n",
    "\n",
    "#     optimizer.zero_grad()\n",
    "#     train_loss.backward()\n",
    "#     optimizer.step()\n",
    "\n",
    "#     if iter % ITERS_PER_EVAL == 0:\n",
    "#         model.eval()\n",
    "#         val_loss, recall, precision, ndcg = evaluation(\n",
    "#             model, val_edge_index, val_sparse_edge_index, [train_edge_index], K, LAMBDA)\n",
    "#         print(f\"[Iteration {iter}/{ITERATIONS}] train_loss: {round(train_loss.item(), 5)}, val_loss: {round(val_loss, 5)}, val_recall@{K}: {round(recall, 5)}, val_precision@{K}: {round(precision, 5)}, val_ndcg@{K}: {round(ndcg, 5)}\")\n",
    "#         train_losses.append(train_loss.item())\n",
    "#         val_losses.append(val_loss)\n",
    "#         model.train()\n",
    "\n",
    "#     if iter % ITERS_PER_LR_DECAY == 0 and iter != 0:\n",
    "#         scheduler.step()"
   ]
  }
 ],
 "metadata": {
  "accelerator": "GPU",
  "colab": {
   "provenance": []
  },
  "gpuClass": "standard",
  "kernelspec": {
   "display_name": "Python 3 (ipykernel)",
   "language": "python",
   "name": "python3"
  },
  "language_info": {
   "codemirror_mode": {
    "name": "ipython",
    "version": 3
   },
   "file_extension": ".py",
   "mimetype": "text/x-python",
   "name": "python",
   "nbconvert_exporter": "python",
   "pygments_lexer": "ipython3",
   "version": "3.9.16"
  }
 },
 "nbformat": 4,
 "nbformat_minor": 4
}
