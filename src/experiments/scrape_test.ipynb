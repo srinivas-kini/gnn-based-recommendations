{
  "nbformat": 4,
  "nbformat_minor": 0,
  "metadata": {
    "colab": {
      "provenance": []
    },
    "kernelspec": {
      "name": "python3",
      "display_name": "Python 3"
    },
    "language_info": {
      "name": "python"
    }
  },
  "cells": [
    {
      "cell_type": "code",
      "execution_count": 1,
      "metadata": {
        "id": "R9Aox8Ohi4Zr"
      },
      "outputs": [],
      "source": [
        "from google.colab import drive\n",
        "from matplotlib import pyplot as plt\n",
        "import numpy as np\n",
        "import pandas as pd\n",
        "import math\n",
        "import random\n",
        "from collections import defaultdict\n",
        "import copy\n",
        "import random\n",
        "from matplotlib import pyplot as plt\n",
        "from time import time\n",
        "import time"
      ]
    },
    {
      "cell_type": "code",
      "source": [
        "drive.mount('/content/drive', force_remount=True)\n",
        "data_path = '/content/drive/My Drive/ECC/saved_posts.html'"
      ],
      "metadata": {
        "colab": {
          "base_uri": "https://localhost:8080/"
        },
        "id": "TyUvDX04i43K",
        "outputId": "aaf5d514-79fa-47f7-a25c-ae26e9817785"
      },
      "execution_count": 66,
      "outputs": [
        {
          "output_type": "stream",
          "name": "stdout",
          "text": [
            "Mounted at /content/drive\n"
          ]
        }
      ]
    },
    {
      "cell_type": "code",
      "source": [
        "from bs4 import BeautifulSoup\n"
      ],
      "metadata": {
        "id": "dbPFYCefi5s5"
      },
      "execution_count": 67,
      "outputs": []
    },
    {
      "cell_type": "code",
      "source": [
        "import codecs\n",
        "html_doc= codecs.open(data_path, 'r').read()\n",
        "soup = BeautifulSoup(html_doc, 'html.parser')"
      ],
      "metadata": {
        "id": "rr9Nfl_-mrWA"
      },
      "execution_count": 68,
      "outputs": []
    },
    {
      "cell_type": "code",
      "source": [
        "ul_posts = soup.find(class_='reusable-search__entity-result-list list-style-none')"
      ],
      "metadata": {
        "id": "jQeQ4Pi7piKL"
      },
      "execution_count": 73,
      "outputs": []
    },
    {
      "cell_type": "code",
      "source": [
        "post_data = []\n",
        "posts = ul_posts.find_all([\"li\", \"reusable-search__result-container\"])\n",
        "for post in posts:\n",
        "  data = {}\n",
        "  # content summary - relative entity-result__content-summary--3-lines entity-result__content-summary entity-result--no-ellipsis t-14 mb2\n",
        "  links = post.find_all(['a', \"app-aware-link \"])\n",
        "  data['link'] = []\n",
        "  for link in links:\n",
        "   data['link'].append( link.get('href') )\n",
        "  data['body'] = post.find_all(['p', \"relative entity-result__content-summary entity-result--no-ellipsis t-14 mb2\"])[1]\n",
        "\n",
        "  post_data.append(data)\n",
        "\n",
        "post_data"
      ],
      "metadata": {
        "colab": {
          "base_uri": "https://localhost:8080/"
        },
        "id": "6yArXxD_q9iC",
        "outputId": "a7ee3674-a17f-4578-e84a-6165d5b5fa8b"
      },
      "execution_count": 78,
      "outputs": [
        {
          "output_type": "execute_result",
          "data": {
            "text/plain": [
              "[{'link': ['https://www.linkedin.com/in/ACoAAA8I2cQBnZtq7BQrl_Mhaixc3wtZhYwV1h0?miniProfileUrn=urn%3Ali%3Afs_miniProfile%3AACoAAA8I2cQBnZtq7BQrl_Mhaixc3wtZhYwV1h0',\n",
              "   'https://www.linkedin.com/in/ACoAAA8I2cQBnZtq7BQrl_Mhaixc3wtZhYwV1h0?miniProfileUrn=urn%3Ali%3Afs_miniProfile%3AACoAAA8I2cQBnZtq7BQrl_Mhaixc3wtZhYwV1h0'],\n",
              "  'body': <p class=\"relative entity-result__content-summary entity-result--no-ellipsis t-14 mb2\">\n",
              "  <!-- -->Here's the list of 75 companies I applied to an year ago.<!-- --><br/><br/><!-- -->On my recent post, many people asked me to share the companies I've applied to. Added 25 more and sharing a total of 100 companies.<!-- --><br/><br/><!-- -->Adobe<!-- --><br/><!-- -->Airbnb<!-- --><br/><!-- -->Alphonso<!-- --><br/><!-- -->Amazon<!-- --><br/><!-- -->Apna<!-- --><br/><!-- -->Apple<!-- --><br/><!-- -->Arcesium<!-- --><br/><!-- -->Atlassian<!-- --><br/><!-- -->Blackbuck<!-- --><br/><!-- -->Booking(dot) com<!-- --><br/><!-- -->Browserstack<!-- --><br/><!-- -->Codenation<!-- --><br/><!-- -->Cohesity<!-- --><br/><!-- -->CoinDCX<!-- --><br/><!-- -->Coinbase<!-- --><br/><!-- -->Coinswitch Kuber<!-- --><br/><!-- -->Compass<!-- --><br/><!-- -->Confluent<!-- --><br/><!-- -->Cred<!-- --><br/><!-- -->Cure fit<!-- --><br/><!-- -->DE Shaw<!-- --><br/><!-- -->Discord<!-- --><br/><!-- -->Doordash<!-- --><br/><!-- -->Dunzo<!-- --><br/><!-- -->Eightfold(dot) ai<!-- --><br/><!-- -->Expedia<!-- --><br/><!-- -->Flipkart<!-- --><br/><!-- -->Freshworks<!-- --><br/><!-- -->Gojek<!-- --><br/><!-- -->Goldman Sachs<!-- --><br/><!-- -->Google<!-- --><br/><!-- -->Grab<!-- --><br/><!-- -->Graviton<!-- --><br/><!-- -->Hotstar<!-- --><br/><!-- -->Indeed<!-- --><br/><!-- -->Intuit<!-- --><br/><!-- -->JP Morgan Chase<!-- --><br/><!-- -->Khatabook<!-- --><br/><!-- -->Licious<!-- --><br/><!-- -->LinkedIn<!-- --><br/><!-- -->MakeMyTrip<!-- --><br/><!-- -->Media(dot) net<!-- --><br/><!-- -->Meesho<!-- --><br/><!-- -->Meta<!-- --><br/><!-- -->Microsoft<!-- --><br/><!-- -->Mindtickle<!-- --><br/><!-- -->Mobikwik<!-- --><br/><!-- -->Morgan Stanley<!-- --><br/><!-- -->Myntra<!-- --><br/><!-- -->Navi<!-- --><br/><!-- -->Netflix<!-- --><br/><!-- -->Ninjacart<!-- --><br/><!-- -->Notion<!-- --><br/><!-- -->Nutanix<!-- --><br/><!-- -->Nvidia<!-- --><br/><!-- -->Observe(dot) ai<!-- --><br/><!-- -->Ola<!-- --><br/><!-- -->Oracle (OCI)<!-- --><br/><!-- -->Oyo<!-- --><br/><!-- -->Palantir<!-- --><br/><!-- -->Palo Alto Networks<!-- --><br/><!-- -->PayPal<!-- --><br/><!-- -->Phonepe<!-- --><br/><!-- -->Pinterest<!-- --><br/><!-- -->Plaid<!-- --><br/><!-- -->Postman<!-- --><br/><!-- -->Prophecy(dot) io<!-- --><br/><!-- -->Rakuten<!-- --><br/><!-- -->Razorpay<!-- --><br/><!-- -->Reddit<!-- --><br/><!-- -->Redhat<!-- --><br/><!-- -->Rippling<!-- --><br/><!-- -->Rivigo<!-- --><br/><!-- -->Roblox<!-- --><br/><!-- -->Rubrik<!-- --><br/><!-- -->Rupeek<!-- --><br/><!-- -->Rupifi<!-- --><br/><!-- -->Salesforce<!-- --><br/><!-- -->Samsung<!-- --><br/><!-- -->ServiceNow<!-- --><br/><!-- -->Sharechat<!-- --><br/><!-- -->Slack<!-- --><br/><!-- -->Splunk<!-- --><br/><!-- -->Sprinklr<!-- --><br/><!-- -->Stripe<!-- --><br/><!-- -->Swiggy<!-- --><br/><!-- -->Tekion<!-- --><br/><!-- -->TikTok<!-- --><br/><!-- -->Tower Research<!-- --><br/><!-- -->Twilio<!-- --><br/><!-- -->Twitter<!-- --><br/><!-- -->Uber<!-- --><br/><!-- -->Udaan<!-- --><br/><!-- -->Unacademy<!-- --><br/><!-- -->Upstox<!-- --><br/><!-- -->VMware<!-- --><br/><!-- -->Walmart<!-- --><br/><!-- -->Zeta<!-- --><br/><!-- -->Zomato<!-- --><br/><!-- -->Zscaler<!-- --><br/><br/><!-- -->The list is in no particular order and this was my personal list back an year ago when the situation of \"layoffs\" was absent.<span class=\"white-space-pre\"> </span><br/><br/><!-- -->I've applied to almost all companies listed here or at least reached out to companies where I couldn't apply, asking for a role either through recruiter (or) referral (or) directly on their portal.<!-- --><br/><br/><!-- -->I hope this helps people in realising there's so many companies and chances you can apply for, and not just a couple. Btw, there's still tons of companies apart from what I've shared.<!-- --><br/><br/><!-- -->Feel free to follow me here - Revanth Murigipudi<!-- --><br/><br/><!-- -->#companies #hiring #jobsearch #startups #india #careers #interviewpreparation<!-- -->\n",
              "  <!-- --></p>},\n",
              " {'link': ['https://www.linkedin.com/in/ACoAACby0LMBoQ6kiXlC2BvmLzXW6dcQWnvLGVI?miniProfileUrn=urn%3Ali%3Afs_miniProfile%3AACoAACby0LMBoQ6kiXlC2BvmLzXW6dcQWnvLGVI',\n",
              "   'https://www.linkedin.com/in/ACoAACby0LMBoQ6kiXlC2BvmLzXW6dcQWnvLGVI?miniProfileUrn=urn%3Ali%3Afs_miniProfile%3AACoAACby0LMBoQ6kiXlC2BvmLzXW6dcQWnvLGVI',\n",
              "   'https://www.linkedin.com/feed/update/urn:li:activity:7030505264445317120?updateEntityUrn=urn%3Ali%3Afs_feedUpdate%3A%28V2%2Curn%3Ali%3Aactivity%3A7030505264445317120%29'],\n",
              "  'body': <p class=\"relative entity-result__content-summary entity-result--no-ellipsis t-14 mb2\">\n",
              "  <!-- -->Physics-informed neural networks, a deep learning method that bridges the gap between machine learning and scientific computing.<span class=\"white-space-pre\"> </span><br/><br/><!-- -->This is a totally new concept to me, and it is amazing to see how powerful it can be when we incorporate physical principles into machine learning.<span class=\"white-space-pre\"> </span><br/><br/><!-- -->PINN has superior approximation and generalization capabilities, which made it gain popularity in solving high-dimensional partial differential equations (PDEs), and has been used in various applications such as weather modeling, healthcare, and manufacturing.<!-- --><br/><br/><!-- -->Please find the references in the comments :)<!-- --><br/><br/><!-- -->I share my learning journey into Data Science with my amazing LinkedIn friends, click follow and let's grow together!<span class=\"white-space-pre\"> </span><br/><br/><!-- -->#machinelearning #datascience<!-- -->\n",
              "  <!-- --></p>},\n",
              " {'link': ['https://www.linkedin.com/in/ACoAAC50yhEBur2ETMTUVGV_ahvibbvywBK9kgA?miniProfileUrn=urn%3Ali%3Afs_miniProfile%3AACoAAC50yhEBur2ETMTUVGV_ahvibbvywBK9kgA',\n",
              "   'https://www.linkedin.com/in/ACoAAC50yhEBur2ETMTUVGV_ahvibbvywBK9kgA?miniProfileUrn=urn%3Ali%3Afs_miniProfile%3AACoAAC50yhEBur2ETMTUVGV_ahvibbvywBK9kgA'],\n",
              "  'body': <p class=\"relative entity-result__content-summary entity-result--no-ellipsis t-14 mb2\">\n",
              "  <!-- -->I didn’t write a line of code until I was 30.<!-- --><br/><br/><!-- -->I used to blame my environment.<!-- --><br/><br/><!-- -->I now see I didn’t surround myself with the right people early enough.<!-- --><br/><br/><!-- -->Here's a few that can help you find and amplify the tech career you deserve:<!-- --><br/><br/><!-- -->1. Quinn Wass - Helps software engineers become better at designing distributed systems, scaling cloud infrastructure, and designing well thought out architectures.<!-- --><br/><br/><!-- -->2. Heath Adams - Transitioned from an Accountant to Penetration Testing. Left that safe path to create TCM Security, with an affordable training academy having now served 200k+ students.<!-- --><br/><br/><!-- -->3. Andy Wong - Advocate for underrepresented groups and non-traditional backgrounds in tech. Equal parts cynic, Shakespeare and comic.<!-- --><br/><br/><!-- -->4. Jessica Parker - Passionate Advocate for Junior Developers &amp; Team Lead leading by example.<!-- --><br/><br/><!-- -->5. Chris French - Teacher-turned-Data Analyst sharing his journey.<!-- --><br/><br/><!-- -->6. Khalid Warsame - Truck driver-turned Flutter developer sharing his journey.<!-- --><br/><br/><!-- -->7. Andrew C. - Self-taught, Full Stack Software Developer and Podcast co-host.<!-- --><br/><br/><!-- -->8. Doug Howard, P.E. - Engineering Manager-turned Engineering coach.<!-- --><br/><br/><!-- -->If someone has had an impact on your own transition, tag them below so I can give them a follow.<!-- --><br/><br/><!-- -->Life is so much more fun when viewed as a team sport.<!-- -->\n",
              "  <!-- --></p>},\n",
              " {'link': ['https://www.linkedin.com/in/ACoAAAQWSRoB7KJNyIpbVcF0Nkh7XfTUkWadnNQ?miniProfileUrn=urn%3Ali%3Afs_miniProfile%3AACoAAAQWSRoB7KJNyIpbVcF0Nkh7XfTUkWadnNQ',\n",
              "   'https://www.linkedin.com/in/ACoAAAQWSRoB7KJNyIpbVcF0Nkh7XfTUkWadnNQ?miniProfileUrn=urn%3Ali%3Afs_miniProfile%3AACoAAAQWSRoB7KJNyIpbVcF0Nkh7XfTUkWadnNQ'],\n",
              "  'body': <p class=\"relative entity-result__content-summary entity-result--no-ellipsis t-14 mb2\">\n",
              "  <!-- -->Relevance of traditional ML in the age of LLMs<!-- --><br/><br/><!-- -->Anyone who works on recommendation engines knows that content curated by professional domain expert curators performs SIGNIFICANTLY worse than the content chosen by even basic ML models. The same is true for a lot of other \"compute centric\" problems that operate on domain specific tabular data e.g. fraud detection or insurance risk underwriting.<!-- --><br/><br/><!-- -->These problems are fundamentally different from a whole class of problems which are more \"human centric\" - writing ad copy, or generating an image. For these problems, the state of the art is a human - they don't involve a ton of number crunching but a higher level understanding of the world and how it functions, especially how other humans think/feel.<span class=\"white-space-pre\"> </span><br/><br/><!-- -->Generative AI is amazing for human centric problems but it is pretty bad at compute centric problems. And my sense is that it may be 5-10 years, if not longer, before LLMs can master even this category of problems. So it appears that traditional ML is safe for now.<span class=\"white-space-pre\"> </span><br/><br/><!-- -->Thoughts?<!-- -->\n",
              "  <!-- --></p>},\n",
              " {'link': ['https://www.linkedin.com/in/ACoAAAKzn70BntXbWLi92cNC598KiNwys_3DD7A?miniProfileUrn=urn%3Ali%3Afs_miniProfile%3AACoAAAKzn70BntXbWLi92cNC598KiNwys_3DD7A',\n",
              "   'https://www.linkedin.com/in/ACoAAAKzn70BntXbWLi92cNC598KiNwys_3DD7A?miniProfileUrn=urn%3Ali%3Afs_miniProfile%3AACoAAAKzn70BntXbWLi92cNC598KiNwys_3DD7A',\n",
              "   'https://www.linkedin.com/feed/update/urn:li:activity:7029935379466125312?updateEntityUrn=urn%3Ali%3Afs_feedUpdate%3A%28V2%2Curn%3Ali%3Aactivity%3A7029935379466125312%29'],\n",
              "  'body': <p class=\"relative entity-result__summary entity-result--no-ellipsis mb2 t-14 t-black mh4\">\n",
              "  <!-- -->Link Prediction with Non-Contrastive Learning (#iclr2023): https://lnkd.in/grk5PJd5<!-- --><br/><br/><!-- -->Graph self-supervised learning (SSL) has been a focal area in recent years.  Many prior works in this space propose *contrastive* methods, which use a combination of positive and negative samples to learn node representations.  These methods inherit unfortunate disadvantages of negative sampling, namely their scalability challenges and model sensitivity.  Recently, several *non-contrastive* methods have been proposed which instead use only positive samples and employ strategies to avoid collapse, thereby sidestepping negative sampling entirely and with promising speed advantages.  Yet, how these methods fare on link-level tasks, like link prediction (LP), is poorly understood, despite link-level tasks' huge applicability to the recommendation systems domain.  Our work aims to bridge this gap.  We first evaluate the performance of existing non-contrastive graph SSL methods in LP tasks, showing that one in particular (BGRL) fares much better than others.  Next, we show that non-contrastive methods generally overfit the training graph and suffer in inductive settings, where predictions must be made about links to/from unseen nodes.  In response, we propose a new method, T-BGRL which incorporates cheap and fast corruptions to drastically improve model generalization.  This simple modification improves inductive task performance in 5/6 benchmark datasets, with up to 120% improvement in Hits@50, while being 14x faster than contrastive contenders.<span class=\"white-space-pre\"> </span><br/><br/><!-- -->Joint work with William Shiao, Zhichun Guo, Tong Zhao, Evangelos (Vagelis) Papalexakis, and Yozen L. (University of California, Riverside, University of Notre Dame, Snap Inc.).<!-- --><br/><br/><!-- -->#gnn #graphs #graphml #machinelearning #snapchat #research<!-- -->\n",
              "  <!-- --></p>},\n",
              " {'link': ['https://www.linkedin.com/in/ACoAAAX4wTUBO35L5oboUQtCddr_y9vkam-Y9sE?miniProfileUrn=urn%3Ali%3Afs_miniProfile%3AACoAAAX4wTUBO35L5oboUQtCddr_y9vkam-Y9sE',\n",
              "   'https://www.linkedin.com/in/ACoAAAX4wTUBO35L5oboUQtCddr_y9vkam-Y9sE?miniProfileUrn=urn%3Ali%3Afs_miniProfile%3AACoAAAX4wTUBO35L5oboUQtCddr_y9vkam-Y9sE',\n",
              "   'https://www.linkedin.com/feed/update/urn:li:activity:7029650056051888128?updateEntityUrn=urn%3Ali%3Afs_feedUpdate%3A%28V2%2Curn%3Ali%3Aactivity%3A7029650056051888128%29'],\n",
              "  'body': <p class=\"relative entity-result__summary entity-result--no-ellipsis mb2 t-14 t-black mh4\">\n",
              "  <!-- -->Are you researching a machine learning problem? This repository may be a good place to start.<span class=\"white-space-pre\"> </span><br/><br/><!-- -->It has more than 500 industry papers &amp; tech blogs, sharing:<!-- --><br/><!-- -->• Why the problem was important<!-- --><br/><!-- -->• How they solved it, and<!-- --><br/><!-- -->• What results were achieved<!-- --><br/><br/><!-- -->#appliedscience #machinelearning<span class=\"white-space-pre\"> </span>\n",
              "  <!-- --></p>},\n",
              " {'link': ['https://www.linkedin.com/in/ACoAAAhGtHwBMKpq7uIR9edWLyKUj-gJ16hOk8Q?miniProfileUrn=urn%3Ali%3Afs_miniProfile%3AACoAAAhGtHwBMKpq7uIR9edWLyKUj-gJ16hOk8Q',\n",
              "   'https://www.linkedin.com/in/ACoAAAhGtHwBMKpq7uIR9edWLyKUj-gJ16hOk8Q?miniProfileUrn=urn%3Ali%3Afs_miniProfile%3AACoAAAhGtHwBMKpq7uIR9edWLyKUj-gJ16hOk8Q',\n",
              "   'https://www.linkedin.com/feed/update/urn:li:activity:7029675150992175104?updateEntityUrn=urn%3Ali%3Afs_feedUpdate%3A%28V2%2Curn%3Ali%3Aactivity%3A7029675150992175104%29'],\n",
              "  'body': <p class=\"relative entity-result__content-summary--3-lines entity-result__summary entity-result--no-ellipsis mb2 t-14 t-black mh4\">\n",
              "  <!-- -->Pleased to have our team's work on the Multi-lingual Evaluation of Code Generation Models accepted at ICLR 2023.<!-- --><br/><br/><!-- -->We introduce MBXP, an execution-based code completion benchmark in 10+ programming languages, and evaluate code generation models. Our study discovers the generalization ability of language models on out-of-domain languages, the advantages of large multi-lingual models over mono-lingual, the benefits of few-shot prompting, and zero-shot translation abilities.<!-- --><br/><br/><!-- -->Check out an initial draft of our paper at https://lnkd.in/gedssjwQ and the benchmark at https://lnkd.in/g4wUwdV7.<!-- --><br/><br/><!-- -->#llm #code #datasets #ml<!-- -->\n",
              "  <button aria-label=\"See more, click to view the full content.\" class=\"reusable-search-show-more-link t-black--light link-without-visited-state t-14\" type=\"button\">\n",
              "        …see more\n",
              "      </button>\n",
              "  </p>},\n",
              " {'link': ['https://www.linkedin.com/in/ACoAAAMfZ70B-6p6akpK0O36okeb8JYUJjRC7HA?miniProfileUrn=urn%3Ali%3Afs_miniProfile%3AACoAAAMfZ70B-6p6akpK0O36okeb8JYUJjRC7HA',\n",
              "   'https://www.linkedin.com/in/ACoAAAMfZ70B-6p6akpK0O36okeb8JYUJjRC7HA?miniProfileUrn=urn%3Ali%3Afs_miniProfile%3AACoAAAMfZ70B-6p6akpK0O36okeb8JYUJjRC7HA',\n",
              "   'https://www.linkedin.com/feed/update/urn:li:activity:7029328622935031808?updateEntityUrn=urn%3Ali%3Afs_feedUpdate%3A%28V2%2Curn%3Ali%3Aactivity%3A7029328622935031808%29'],\n",
              "  'body': <p class=\"relative entity-result__content-summary entity-result--no-ellipsis t-14 mb2\">\n",
              "  <!-- -->This video is about gRPC.<span class=\"white-space-pre\"> </span><br/><span class=\"white-space-pre\"> </span><!-- --><!-- --><br/><!-- -->Discover why it's dominating server-to-server communication – and why it's not widely used between clients and servers.<span class=\"white-space-pre\"> </span><br/><span class=\"white-space-pre\"> </span><!-- --><!-- --><br/><!-- -->Watch on YouTube: https://lnkd.in/gkmV4w7H<!-- -->\n",
              "  <!-- --></p>},\n",
              " {'link': ['https://www.linkedin.com/in/ACoAAAx56kwBzkhcMwA7n6mKCkKzEPI0t2s0LEE?miniProfileUrn=urn%3Ali%3Afs_miniProfile%3AACoAAAx56kwBzkhcMwA7n6mKCkKzEPI0t2s0LEE',\n",
              "   'https://www.linkedin.com/in/ACoAAAx56kwBzkhcMwA7n6mKCkKzEPI0t2s0LEE?miniProfileUrn=urn%3Ali%3Afs_miniProfile%3AACoAAAx56kwBzkhcMwA7n6mKCkKzEPI0t2s0LEE'],\n",
              "  'body': <p class=\"relative entity-result__content-summary entity-result--no-ellipsis t-14 mb2\">\n",
              "  <!-- -->Excited to share that I was recently a guest on Dylan Stafford's UCLA Anderson School of Management podcast to discuss my research work in AI and Machine Learning and its applications in Space Exploration and Real Estate Technology.<!-- --><br/><!-- -->As an AI researcher at NASA Jet Propulsion Laboratory and OpalAi, I have always been fascinated by the potential of this technology to change the way we live and work. In my interview, I shared my insights on how AI and Machine Learning are transforming the space exploration (particularly Mars) and real estate industries.<!-- --><br/><!-- -->In space exploration, AI and Machine Learning are being used to analyze data from space missions to automate the spacecraft operation in dynamic and uncertain environments for fast decision making capabilities.<span class=\"white-space-pre\"> </span><br/><!-- -->In the real estate industry, AI and Machine Learning are being used to create digital twin of real world spaces, and provide more accurate property condition valuations. By analyzing vast amounts of data, AI and Machine Learning algorithms can provide real estate professionals with a comprehensive view of the market, helping them to make informed decisions and drive growth.<!-- --><br/><!-- -->I'm grateful for the opportunity to share my work on Dylan Stafford's podcast and highlight the exciting potential of AI and Machine Learning in these industries. If you're interested in learning more about my research, you can see the full podcast here:<span class=\"white-space-pre\"> </span><br/><br/><!-- -->https://lnkd.in/gyF89dvW.<span class=\"white-space-pre\"> </span><br/><br/><!-- -->#AIML #SpaceExploration #RealEstate #Technology National Science Foundation (NSF) #machinelearning #science #ai #NSFfunded #Mars<span class=\"white-space-pre\"> </span><br/>\n",
              "  <!-- --></p>},\n",
              " {'link': ['https://www.linkedin.com/in/ACoAAAKPFhYBDWsxnFRk7XmQhjujHkwkpWFiwrc?miniProfileUrn=urn%3Ali%3Afs_miniProfile%3AACoAAAKPFhYBDWsxnFRk7XmQhjujHkwkpWFiwrc',\n",
              "   'https://www.linkedin.com/in/ACoAAAKPFhYBDWsxnFRk7XmQhjujHkwkpWFiwrc?miniProfileUrn=urn%3Ali%3Afs_miniProfile%3AACoAAAKPFhYBDWsxnFRk7XmQhjujHkwkpWFiwrc'],\n",
              "  'body': <p class=\"relative entity-result__content-summary entity-result--no-ellipsis t-14 mb2\">\n",
              "  <!-- -->3 papers to learn how ChatGPT works 👇‍<!-- --><br/><br/><!-- -->- Attention Is All You Need<!-- --><br/><!-- -->- Language Models are Few-Shot Learners<!-- --><br/><!-- -->- Improving Language Understanding by Generative Pre-Training<!-- --><br/><br/><!-- -->skimmed through them once; now digging deeper ✨ check \"currently reading\" 👇‍<!-- --><br/><br/><!-- -->arpitbhayani.me/papershelf<!-- --><br/><br/><!-- -->Video on chatGPT internals dropping soon 🤘<!-- --><br/><br/><!-- -->ps: subscribe: youtube.com/c/ArpitBhayani<!-- --><br/><!-- -->pps: all books I read: arpitbhayani.me/bookshelf<!-- --><br/><br/><!-- -->#AsliEngineering #ChatGPT<span class=\"white-space-pre\"> </span>\n",
              "  <!-- --></p>},\n",
              " {'link': ['https://www.linkedin.com/in/ACoAADhO_kMBXyMXnSXikwSZnWfjILRNaSgoyg4?miniProfileUrn=urn%3Ali%3Afs_miniProfile%3AACoAADhO_kMBXyMXnSXikwSZnWfjILRNaSgoyg4',\n",
              "   'https://www.linkedin.com/in/ACoAADhO_kMBXyMXnSXikwSZnWfjILRNaSgoyg4?miniProfileUrn=urn%3Ali%3Afs_miniProfile%3AACoAADhO_kMBXyMXnSXikwSZnWfjILRNaSgoyg4',\n",
              "   'https://www.linkedin.com/feed/update/urn:li:activity:7029015656574369792?updateEntityUrn=urn%3Ali%3Afs_feedUpdate%3A%28V2%2Curn%3Ali%3Aactivity%3A7029015656574369792%29'],\n",
              "  'body': <p class=\"relative entity-result__content-summary entity-result--no-ellipsis t-14 mb2\">\n",
              "  <!-- -->Hyperparameter Optimization (HPO) aims to find a well-performing hyperparameter configuration of a given machine learning model on a dataset (including the model, its hyperparameters, and other data processing steps).<!-- --><br/><span class=\"white-space-pre\"> </span><!-- --><!-- --><br/><!-- -->GridSearch<!-- --><br/><!-- -->An exhaustive method was measured by cross-validation on the training dataset. It is a simple, time-consuming, and efficient approach with only categorical HPs.<!-- --><br/><span class=\"white-space-pre\"> </span><!-- --><!-- --><br/><!-- -->Random Search<!-- --><br/><!-- -->Replaces exhaustive search by selecting randomly. It is embarrassingly parallel and more efficient than grid search. It does not consider previous results and is not efficient with conditional HPs.<!-- --><br/><span class=\"white-space-pre\"> </span><!-- --><!-- --><br/><!-- -->Bayesian Optimization and Variants<!-- --><br/><!-- -->Builds a probabilistic model of the function mapping from hyperparameter values to the objectives evaluated on a validation set. By evaluating a promising hyperparameter configuration based on the current model and then updating it, Bayesian optimization hopes to get as many observations as possible that show as much as possible about this function and, in particular, where the optimal point is.<!-- --><br/><span class=\"white-space-pre\"> </span><!-- --><!-- --><br/><!-- -->Bayesian Optimization-Gaussian Processes (BO-GP)<!-- --><br/><!-- -->Converge fast for continuous hyperparameters. However, it has a poor parallelization capacity and could be more efficient with conditional hyperparameters.<!-- --><br/><span class=\"white-space-pre\"> </span><!-- --><!-- --><br/><!-- -->Bayesian Optimization Tree-structured Parzen Estimators (BO-TPE)<!-- --><br/><!-- -->It is efficient with all types of hyperparameters and keeps conditional dependencies but has a poor capacity for parallelization.<!-- --><br/><span class=\"white-space-pre\"> </span><!-- --><!-- --><br/><!-- -->Tree-structured Parzen Estimators<!-- --><br/><!-- -->Sequential model-based optimization (SMBO) methods sequentially construct models to approximate the performance of hyperparameters based on historical measurements and then choose new hyperparameters to test based on this model.<!-- --><br/><span class=\"white-space-pre\"> </span><!-- --><!-- --><br/><!-- -->HyperBand<!-- --><br/><!-- -->An early stopping-based method that adaptively allocates a pre-defined resource, e.g., iterations, data samples, or several features, to randomly sampled configurations. It enables parallelization but could be more efficient with conditional HPs. HYPERBAND requires subsets with small budgets to be representative.<!-- --><br/><span class=\"white-space-pre\"> </span><!-- --><!-- --><br/><!-- -->Bayesian Optimization HyperBand (BOHB)<!-- --><br/><!-- -->It is a state-of-the-art HPO algorithm. The idea behind the BOHB is based on one simple question – why do we run successive halving repeatedly? Instead of a blind repetition method on top of successive halving, BOHB uses the Bayesian Optimization algorithm. BOHB combines HyperBand and Bayesian Optimization to use both of these algorithms efficiently. It is efficient with all types of hyperparameters. However, it requires small budgets for subsets to be representative.<!-- --><br/><span class=\"white-space-pre\"> </span><!-- --><!-- --><br/><!-- -->Successive Halving<!-- --><br/><!-- -->Attempts to allocate the most funds to the most promising methods. It assumes all configurations could be stopped early, and a validation score could be obtained. There is a trade-off between how many configurations need to be selected at the start and how many cuts are needed.<!-- --><br/><span class=\"white-space-pre\"> </span><!-- --><!-- --><br/><!-- -->Image: Author<!-- --><br/><!-- -->#machinelearning #datascience<!-- -->\n",
              "  <!-- --></p>},\n",
              " {'link': ['https://www.linkedin.com/in/ACoAAAFsiXwBmjfPnVAg3GEXERd5bnvTwn8gVo0?miniProfileUrn=urn%3Ali%3Afs_miniProfile%3AACoAAAFsiXwBmjfPnVAg3GEXERd5bnvTwn8gVo0',\n",
              "   'https://www.linkedin.com/in/ACoAAAFsiXwBmjfPnVAg3GEXERd5bnvTwn8gVo0?miniProfileUrn=urn%3Ali%3Afs_miniProfile%3AACoAAAFsiXwBmjfPnVAg3GEXERd5bnvTwn8gVo0'],\n",
              "  'body': <p class=\"relative entity-result__content-summary entity-result--no-ellipsis t-14 mb2\">\n",
              "  <!-- -->Non Wall Street Offices in USA:<!-- --><br/><!-- -->- Don’t bother me on weekends<!-- --><br/><!-- -->- If I cannot do something, I’ll say NO<!-- --><br/><!-- -->- Negotiate and self-advocate to get a raise<!-- --><br/><!-- -->- Your promotion depends on your performance<!-- --><br/><!-- -->- Get the work done, no matter how<!-- --><br/><br/><!-- -->Offices in India:<!-- --><br/><!-- -->- There’s always an urgent release on Saturday<!-- --><br/><!-- -->- If I cannot do something, I’ll lie so that manager doesn't get offended<!-- --><br/><!-- -->- Be in boss’s good books to get a raise<!-- --><br/><!-- -->- Your promotion depends on your seniority<!-- --><br/><!-- -->- Punch in your card for 9 hours, no matter how<!-- --><br/><br/><!-- -->#careers #scholarstrategy<!-- -->\n",
              "  <!-- --></p>},\n",
              " {'link': ['https://www.linkedin.com/in/ACoAAAJcVUEBpKxeVUb94KnEePlKepfIXeP2RM0?miniProfileUrn=urn%3Ali%3Afs_miniProfile%3AACoAAAJcVUEBpKxeVUb94KnEePlKepfIXeP2RM0',\n",
              "   'https://www.linkedin.com/in/ACoAAAJcVUEBpKxeVUb94KnEePlKepfIXeP2RM0?miniProfileUrn=urn%3Ali%3Afs_miniProfile%3AACoAAAJcVUEBpKxeVUb94KnEePlKepfIXeP2RM0',\n",
              "   'https://www.linkedin.com/feed/update/urn:li:activity:7029127980660457472?updateEntityUrn=urn%3Ali%3Afs_feedUpdate%3A%28V2%2Curn%3Ali%3Aactivity%3A7029127980660457472%29'],\n",
              "  'body': <p class=\"relative entity-result__content-summary entity-result--no-ellipsis t-14 mb2\">\n",
              "  <!-- -->Caching is one of the 𝐦𝐨𝐬𝐭 𝐜𝐨𝐦𝐦𝐨𝐧𝐥𝐲 used techniques when building fast online systems. When using a cache, here are the top 5 things to consider:<span class=\"white-space-pre\"> </span><br/><span class=\"white-space-pre\"> </span><!-- --><!-- --><br/><!-- -->The first version of the cheatsheet was written by guest author Love Sharma.<span class=\"white-space-pre\"> </span><br/><span class=\"white-space-pre\"> </span><!-- --><!-- --><br/><!-- -->𝐒𝐮𝐢𝐭𝐚𝐛𝐥𝐞 𝐒𝐜𝐞𝐧𝐚𝐫𝐢𝐨𝐬:<span class=\"white-space-pre\"> </span><br/><!-- -->- In-memory solution<span class=\"white-space-pre\"> </span><br/><!-- -->- Read heavy system<span class=\"white-space-pre\"> </span><br/><!-- -->- Data is not frequently updated<span class=\"white-space-pre\"> </span><br/><span class=\"white-space-pre\"> </span><!-- --><!-- --><br/><!-- -->𝐂𝐚𝐜𝐡𝐢𝐧𝐠 𝐓𝐞𝐜𝐡𝐧𝐢𝐪𝐮𝐞𝐬:<span class=\"white-space-pre\"> </span><br/><!-- -->- Cache aside<span class=\"white-space-pre\"> </span><br/><!-- -->- Write-through<span class=\"white-space-pre\"> </span><br/><!-- -->- Read-through<span class=\"white-space-pre\"> </span><br/><!-- -->- Write-around<span class=\"white-space-pre\"> </span><br/><!-- -->- Write-back<span class=\"white-space-pre\"> </span><br/><span class=\"white-space-pre\"> </span><!-- --><!-- --><br/><!-- -->𝐂𝐚𝐜𝐡𝐞 𝐄𝐯𝐢𝐜𝐭𝐢𝐨𝐧 𝐀𝐥𝐠𝐨𝐫𝐢𝐭𝐡𝐦𝐬:<span class=\"white-space-pre\"> </span><br/><!-- -->- Least Recently Used (LRU)<span class=\"white-space-pre\"> </span><br/><!-- -->- Least Frequently Used (LFU)<span class=\"white-space-pre\"> </span><br/><!-- -->- First-in First-out (FIFO)<span class=\"white-space-pre\"> </span><br/><!-- -->- Random Replacement (RR)<span class=\"white-space-pre\"> </span><br/><span class=\"white-space-pre\"> </span><!-- --><!-- --><br/><!-- -->𝐊𝐞𝐲 𝐌𝐞𝐭𝐫𝐢𝐜𝐬:<span class=\"white-space-pre\"> </span><br/><!-- -->- Cache Hit Ratio<span class=\"white-space-pre\"> </span><br/><!-- -->- Latency<span class=\"white-space-pre\"> </span><br/><!-- -->- Throughput<span class=\"white-space-pre\"> </span><br/><!-- -->- Invalidation Rate<span class=\"white-space-pre\"> </span><br/><!-- -->- Memory Usage<span class=\"white-space-pre\"> </span><br/><!-- -->- CPU usage<span class=\"white-space-pre\"> </span><br/><!-- -->- Network usage<span class=\"white-space-pre\"> </span><br/><span class=\"white-space-pre\"> </span><!-- --><!-- --><br/><!-- -->𝐎𝐭𝐡𝐞𝐫 𝐢𝐬𝐬𝐮𝐞𝐬:<span class=\"white-space-pre\"> </span><br/><!-- -->- Thunder herd on cold start<span class=\"white-space-pre\"> </span><br/><!-- -->- Time-to-live (TTL)<span class=\"white-space-pre\"> </span><br/><span class=\"white-space-pre\"> </span><!-- --><!-- --><br/><!-- -->Over to you - Did we miss anything important?<span class=\"white-space-pre\"> </span><br/><span class=\"white-space-pre\"> </span><!-- --><!-- --><br/><!-- -->–<span class=\"white-space-pre\"> </span><br/><!-- -->We will provide a more in-depth analysis of this topic. Subscribe to our newsletter to get the latest update: http://bit.ly/3ZP79GJ<span class=\"white-space-pre\"> </span><br/><span class=\"white-space-pre\"> </span><!-- --><!-- --><br/><!-- -->#systemdesign #coding #interviewtips<span class=\"white-space-pre\"> </span><br/><!-- -->.<!-- -->\n",
              "  <!-- --></p>},\n",
              " {'link': ['https://www.linkedin.com/in/ACoAAAUJVx4B0QKVo_UehWM6klZVZMXaC3wv25w?miniProfileUrn=urn%3Ali%3Afs_miniProfile%3AACoAAAUJVx4B0QKVo_UehWM6klZVZMXaC3wv25w',\n",
              "   'https://www.linkedin.com/in/ACoAAAUJVx4B0QKVo_UehWM6klZVZMXaC3wv25w?miniProfileUrn=urn%3Ali%3Afs_miniProfile%3AACoAAAUJVx4B0QKVo_UehWM6klZVZMXaC3wv25w',\n",
              "   'https://www.linkedin.com/feed/update/urn:li:activity:7029176532082315266?updateEntityUrn=urn%3Ali%3Afs_feedUpdate%3A%28V2%2Curn%3Ali%3Aactivity%3A7029176532082315266%29'],\n",
              "  'body': <p class=\"relative entity-result__summary entity-result--no-ellipsis mb2 t-14 t-black mh4\">\n",
              "  <!-- -->UT Austin has announced a new AI Master’s program. And it's pretty unique.<!-- --><br/><br/><!-- -->Highlights:<span class=\"white-space-pre\"> </span><br/><!-- -->1 - it’s 100% online, so anyone can sign up<!-- --><br/><!-- -->2 - it costs $10k (similar programs cost 5-10x that)<span class=\"white-space-pre\"> </span><br/><!-- -->3 - covers natural language processing, computer vision, deep learning, reinforcement learning, and more<span class=\"white-space-pre\"> </span><br/><!-- -->4 - two years of content, self-paced<span class=\"white-space-pre\"> </span><br/><br/><!-- -->Read more here: https://lnkd.in/gakwM38P<!-- --><br/><br/><!-- -->(And I'm the daughter of a Longhorn, so this is particularly fun for me to share.)<!-- -->\n",
              "  <!-- --></p>},\n",
              " {'link': ['https://www.linkedin.com/in/ACoAAAK_HXAB5_lgKEd7tMWXlvKrVZ0bD55ZVrQ?miniProfileUrn=urn%3Ali%3Afs_miniProfile%3AACoAAAK_HXAB5_lgKEd7tMWXlvKrVZ0bD55ZVrQ',\n",
              "   'https://www.linkedin.com/in/ACoAAAK_HXAB5_lgKEd7tMWXlvKrVZ0bD55ZVrQ?miniProfileUrn=urn%3Ali%3Afs_miniProfile%3AACoAAAK_HXAB5_lgKEd7tMWXlvKrVZ0bD55ZVrQ'],\n",
              "  'body': <p class=\"relative entity-result__content-summary--3-lines entity-result__content-summary entity-result--no-ellipsis t-14 mb2\">\n",
              "  <!-- -->I’m super excited to share how easy it is to run and fine tune transformer models on Databricks. Transformers are the building blocks of all the amazing things we have seen with ChatGPT. Fine tuning these models on your data can allow your organization to automate tasks at super human levels and achieve insights never thought possible. Soon we will be sharing how to do this with models with tens of billions of parameters and deploy it on Serverless Real-Time Inference for online serving!  https://www.linkedin.com/posts/joshuahartman_machinelearning-transformers-databricks-activity-7028501535663812608-l523?utm_source=share&amp;utm_medium=member_android<span class=\"white-space-pre\"> </span><br/><br/><!-- -->machinelearning #transformers #Databricks #chatgpt<!-- -->\n",
              "  <button aria-label=\"See more, click to view the full content.\" class=\"reusable-search-show-more-link t-black--light link-without-visited-state t-14\" type=\"button\">\n",
              "        …see more\n",
              "      </button>\n",
              "  </p>},\n",
              " {'link': ['https://www.linkedin.com/in/ACoAAAAn-6ABLPZKVVSTK1us_i79g0dA82wBo0Y?miniProfileUrn=urn%3Ali%3Afs_miniProfile%3AACoAAAAn-6ABLPZKVVSTK1us_i79g0dA82wBo0Y',\n",
              "   'https://www.linkedin.com/in/ACoAAAAn-6ABLPZKVVSTK1us_i79g0dA82wBo0Y?miniProfileUrn=urn%3Ali%3Afs_miniProfile%3AACoAAAAn-6ABLPZKVVSTK1us_i79g0dA82wBo0Y'],\n",
              "  'body': <p class=\"relative entity-result__content-summary entity-result--no-ellipsis t-14 mb2\">\n",
              "  <!-- -->Highly competent people are always in demand, in good times &amp; bad. So really the best long-term career strategy is to focus on becoming highly competent. But it is impossible to do this if you only want quick hacks or if you tell yourself the story that there is no such thing as high competence.<!-- -->\n",
              "  <!-- --></p>},\n",
              " {'link': ['https://www.linkedin.com/in/ACoAABDrozkBEIzqFTYAJ03XJzJWCvYHMepGP0g?miniProfileUrn=urn%3Ali%3Afs_miniProfile%3AACoAABDrozkBEIzqFTYAJ03XJzJWCvYHMepGP0g',\n",
              "   'https://www.linkedin.com/in/ACoAABDrozkBEIzqFTYAJ03XJzJWCvYHMepGP0g?miniProfileUrn=urn%3Ali%3Afs_miniProfile%3AACoAABDrozkBEIzqFTYAJ03XJzJWCvYHMepGP0g',\n",
              "   'https://www.linkedin.com/feed/update/urn:li:activity:7028144495997194240?updateEntityUrn=urn%3Ali%3Afs_feedUpdate%3A%28V2%2Curn%3Ali%3Aactivity%3A7028144495997194240%29'],\n",
              "  'body': <p class=\"relative entity-result__content-summary entity-result--no-ellipsis t-14 mb2\">\n",
              "  <!-- -->Richest resources I found online so far in System Design.<!-- --><br/><br/><!-- -->𝐒𝐲𝐬𝐭𝐞𝐦 𝐃𝐞𝐬𝐢𝐠𝐧 𝐆𝐨𝐥𝐝𝐦𝐢𝐧𝐞 🙌🏻✔️<!-- --><br/><br/><!-- -->✅ Things you must know in System Design<!-- --><br/><br/><!-- -->👉System design basics: https://bit.ly/3SuUR0Y<!-- --><br/><br/><!-- -->👉Horizontal and vertical scaling: https://bit.ly/3slq5xh<!-- --><br/><br/><!-- -->👉 Load balancing and Message queues: https://bit.ly/3sp0FP4<!-- --><br/><br/><!-- -->👉High-level design and low-level design, Consistent Hashing, Monolithic and Microservices architecture: https://bit.ly/3DnEfEm<!-- --><br/><br/><!-- -->👉 Caching, Indexing, Proxies: https://bit.ly/3SvyVDc<!-- --><br/><br/><!-- -->👉 Networking, How Browsers work, Content Network Delivery ( CDN): https://bit.ly/3TOHQRb<!-- --><br/><br/><!-- -->👉 Database Sharding, CAP Theorem, Database schema Design: https://bit.ly/3CZtfLN<!-- --><br/><br/><!-- -->👉 Concurrency, API, Components + OOP + Abstraction : https://bit.ly/3sqQrhj<!-- --><br/><br/><!-- -->👉 Estimation and Planning, Performance: https://bit.ly/3z9dSPN<!-- --><br/><br/><!-- -->👉 Map Reduce, Patterns, and Microservices: https://bit.ly/3zcsfmv<!-- --><br/><br/><!-- -->👉 SQL vs NoSQL and Cloud: https://bit.ly/3z8Aa49<!-- --><br/><br/><!-- -->👉 Most Popular System Design Questions: https://bit.ly/3Dp40Ux<!-- --><br/><br/><!-- -->✅ System Design Case Studies<!-- --><br/><br/><!-- -->👉 Design Netflix: https://bit.ly/3GrAUG1<!-- --><br/><br/><!-- -->👉 Design Reddit: https://bit.ly/3OgGJrL<!-- --><br/><br/><!-- -->👉 Design Messenger App : https://bit.ly/3DoAAXi<!-- --><br/><br/><!-- -->👉 Design Instagram: https://bit.ly/3BFeHlh<!-- --><br/><br/><!-- -->👉 Design Dropbox: https://bit.ly/3SnhncU<!-- --><br/><br/><!-- -->👉 Design Youtube: https://bit.ly/3dFyvvy<!-- --><br/><br/><!-- -->👉 Design Tinder: https://bit.ly/3Mcyj3X<!-- --><br/><br/><!-- -->👉 Design Yelp: https://bit.ly/3E7IgO5<!-- --><br/><br/><!-- -->👉 Design Whatsapp: https://bit.ly/3M2GOhP<!-- --><br/><br/><!-- -->👉 Design URL shortener : https://bit.ly/3xP078x<!-- --><br/><br/><!-- -->👉 Design Amazon Prime Video: https://bit.ly/3hVpWP4<!-- --><br/><br/><!-- -->👉 Design Twitter: https://bit.ly/3qIG9Ih<!-- --><br/><br/><!-- -->👉 Design Uber: https://bit.ly/3fyvnlT<!-- --><br/><br/><!-- -->👉 Design TikTok : https://bit.ly/3UUlKxP<!-- --><br/><br/><!-- -->👉 Design Facebook's Newsfeed: https://bit.ly/3RldaW7<!-- --><br/><br/><!-- -->👉 Design Web Crawler: https://bit.ly/3DPZTBB<!-- --><br/><br/><!-- -->👉 Design API Rate Limiter: https://bit.ly/3BIVuh7<!-- --><br/><br/><!-- -->✅ All solved case studies: https://bit.ly/3dCG1rc<!-- --><br/><br/><!-- -->👉 System Design Important terms - https://bit.ly/3Om9d3H<!-- --><br/><br/><!-- -->👉 Most Popular System Design Questions: https://bit.ly/3E9oH7K<!-- --><br/><br/><!-- -->👉 Complete System Design Basics Series: https://bit.ly/3rG1cfr<!-- --><br/><br/><!-- -->Credit : Adarsh, Amit Kumar<!-- --><br/><br/><!-- -->#systemdesign #design #hld #lld #companies #dsa #google  #facebook #datastructures #cse #jobs  #interviews #placements #google #amazon #tech #interview #placements #techjobs #codinginterview #programming #careers #resourcesharing #github #amantalks<!-- -->\n",
              "  <!-- --></p>},\n",
              " {'link': ['https://www.linkedin.com/in/ACoAAACaFF0BQoqPB41NsgkHrRgfvFBUvSYfuEg?miniProfileUrn=urn%3Ali%3Afs_miniProfile%3AACoAAACaFF0BQoqPB41NsgkHrRgfvFBUvSYfuEg',\n",
              "   'https://www.linkedin.com/in/ACoAAACaFF0BQoqPB41NsgkHrRgfvFBUvSYfuEg?miniProfileUrn=urn%3Ali%3Afs_miniProfile%3AACoAAACaFF0BQoqPB41NsgkHrRgfvFBUvSYfuEg',\n",
              "   'https://www.linkedin.com/feed/update/urn:li:activity:7028203658689339392?updateEntityUrn=urn%3Ali%3Afs_feedUpdate%3A%28V2%2Curn%3Ali%3Aactivity%3A7028203658689339392%29'],\n",
              "  'body': <p class=\"relative entity-result__summary entity-result--no-ellipsis mb2 t-14 t-black mh4\">\n",
              "  <!-- -->A paper from Stanford<span class=\"white-space-pre\"> </span><br/><!-- -->A prompting strategy<span class=\"white-space-pre\"> </span><br/><!-- -->open-source LLMs  with few billion parameters exceeds the few-shot performance of GPT3-175B by 10 percent<span class=\"white-space-pre\"> </span><br/><!-- -->Paper<span class=\"white-space-pre\"> </span><br/><!-- -->https://lnkd.in/g7pBZ_ex<!-- --><br/><!-- -->GitHub<span class=\"white-space-pre\"> </span><br/><br/><!-- -->https://lnkd.in/gAfWgDF3<!-- -->\n",
              "  <!-- --></p>},\n",
              " {'link': ['https://www.linkedin.com/in/ACoAAAeTKYMB6fLPdieTOzMvwJx-1rv2L0QUpns?miniProfileUrn=urn%3Ali%3Afs_miniProfile%3AACoAAAeTKYMB6fLPdieTOzMvwJx-1rv2L0QUpns',\n",
              "   'https://www.linkedin.com/in/ACoAAAeTKYMB6fLPdieTOzMvwJx-1rv2L0QUpns?miniProfileUrn=urn%3Ali%3Afs_miniProfile%3AACoAAAeTKYMB6fLPdieTOzMvwJx-1rv2L0QUpns',\n",
              "   'https://www.linkedin.com/feed/update/urn:li:activity:7023724470884315136?updateEntityUrn=urn%3Ali%3Afs_feedUpdate%3A%28V2%2Curn%3Ali%3Aactivity%3A7023724470884315136%29'],\n",
              "  'body': <p class=\"relative entity-result__summary entity-result--no-ellipsis mb2 t-14 t-black mh4\">\n",
              "  <!-- -->NVIDIA is #hiring a Senior CPU Logic Design Engineer that will be responsible for leading the micro-architecture and design of CPU on-chip and off-chip interconnect network, MP coherency and last-level and system caches, focusing on such tasks as micro-architectural definition, RTL coding, logic debug, synthesis and timing closure, supporting verification and implementation. This position offers the opportunity to have real impact in a dynamic, technology-focused company impacting product lines ranging from consumer graphics to self-driving cars and the growing field of artificial intelligence. If you are interested in this opportunity, please share you CV to vximenes@nvidia.com or apply directly to the link below. #cpu #interconnect #chip #design #cache #designengineer #opportunity #technology #nvidialife<span class=\"white-space-pre\"> </span>\n",
              "  <!-- --></p>},\n",
              " {'link': ['https://www.linkedin.com/in/ACoAAB--WyMBdPO06-hf_WjnOuS29O1-zeWjNLQ?miniProfileUrn=urn%3Ali%3Afs_miniProfile%3AACoAAB--WyMBdPO06-hf_WjnOuS29O1-zeWjNLQ',\n",
              "   'https://www.linkedin.com/in/ACoAAB--WyMBdPO06-hf_WjnOuS29O1-zeWjNLQ?miniProfileUrn=urn%3Ali%3Afs_miniProfile%3AACoAAB--WyMBdPO06-hf_WjnOuS29O1-zeWjNLQ'],\n",
              "  'body': <p class=\"relative entity-result__content-summary entity-result--no-ellipsis t-14 mb2\">\n",
              "  <!-- -->You can never succeed in a role if you have an insecure manager no matter how good the organisation is.<!-- --><br/><br/><!-- -->He/she will do half the meetings alone without ever letting you get the whole context.<!-- --><br/><!-- -->He/she will try to review all your work and will take credit for the ones done well.<!-- --><br/><!-- -->He/she will wait till the final presentation/meeting to point out your mistakes in front of the senior leadership.<!-- --><br/><!-- -->He/she will always start a discussion with negative feedback on your work and skills.<!-- --><br/><!-- -->And he/she will do everything in his power to diminish your confidence and impression.<!-- --><br/><br/><!-- -->He/she is playing to secure his/her own position and he/she is simply incapable of helping the team to grow.<!-- --><br/><br/><!-- -->#managers<!-- -->\n",
              "  <!-- --></p>}]"
            ]
          },
          "metadata": {},
          "execution_count": 78
        }
      ]
    },
    {
      "cell_type": "code",
      "source": [],
      "metadata": {
        "id": "ov3gWVJuqXNo"
      },
      "execution_count": null,
      "outputs": []
    }
  ]
}